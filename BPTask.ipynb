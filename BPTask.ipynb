{
  "nbformat": 4,
  "nbformat_minor": 0,
  "metadata": {
    "colab": {
      "name": "BPTask.ipynb",
      "provenance": [],
      "collapsed_sections": [],
      "authorship_tag": "ABX9TyNKJYlIYoytCETi6tEmDATe",
      "include_colab_link": true
    },
    "kernelspec": {
      "name": "python3",
      "display_name": "Python 3"
    },
    "language_info": {
      "name": "python"
    }
  },
  "cells": [
    {
      "cell_type": "markdown",
      "metadata": {
        "id": "view-in-github",
        "colab_type": "text"
      },
      "source": [
        "<a href=\"https://colab.research.google.com/github/pawelpuszcz/timeseries-data-analysis/blob/main/BPTask.ipynb\" target=\"_parent\"><img src=\"https://colab.research.google.com/assets/colab-badge.svg\" alt=\"Open In Colab\"/></a>"
      ]
    },
    {
      "cell_type": "code",
      "metadata": {
        "id": "PzERzxndalty"
      },
      "source": [
        ""
      ],
      "execution_count": 178,
      "outputs": []
    },
    {
      "cell_type": "markdown",
      "metadata": {
        "id": "A1DBCg-p3MCz"
      },
      "source": [
        "1. Dane z pliku csv oddzielone są średnikiem, natomiast w pliku csv dane oddzielone są przecinkiem (Comma Separated Values).\n",
        "2. Dane nie zawierają wartości NULL-owych.\n",
        "3. Dane zawierają trzy kolumny o nazwach: dataStream, rowCount i probingTimestamp\n",
        "4. Dane zawierają 160735 rekordów.\n",
        "5. Typy danych to kolejno: object, int64, object\n",
        "6.Unikalność:\n",
        "* Dane kolumny dataStream zawierają ten sam wpis dla wszystkich rekordów\n",
        "* Dane kolumny rowCount zawierają 6612 unikalnych wpisów\n",
        "* Dane kolumny probingTimestamp zawierają 160513 unikalnych wpisów\n",
        "\n",
        "7. Dane DataFrame zawierają 222 zduplikowane rekordy do usunięcia.\n",
        "8. Dane ‘zaczynają się’ 10 stycznia 2020 roku (2020-01-10 10:04:18.837), natomiast ‘kończą się’ 2 maja 2020 roku (2020-05-02 08:00:00.120)\n",
        "9. Kolumna probingTimestamp zawiera niewłaściwy typ danych (dtype). Zmiana z dtype object na dtype datetime64[ns].\n",
        "10. Wartości z kolumny rowCount rosną od 10 stycznia 2020 roku (2020-01-10 10:04:18.837), osiągają największą wartość  6 marca 2020 roku dla przedziału czasowego od godziny 09:03:00.980 do godziny 09:58:00.510.\n",
        "11. Od 6 marca do 9 marca 2020 roku wartości z kolumny rowCount spadają, osiągając najniższą wartość 9 marca 2020 roku dla przedziału czasowego od godziny 13:38:00.147 do godziny 14:00:00.283.\n",
        "12. W spadku wskazanym powyżej pomiędzy datami 6 marca i 9 marca 2020 roku następuje wzrost wartości z kolumny rowCount pomiędzy godziną 14:38 (6 marca) i godziną 09:04 (9 marca). Wzrost ten następuje w weekend zaczynając od 6 marca - piątku popołudnia, przez sobotę i niedzielę, kończąc 9 marca w poniedziałek w godzinach porannych.\n",
        "13. Od 9 marca 2020 roku wartości z kolumny rowCount rosną do 2 maja 2020 roku (2020-05-02 08:00:00.120).\n",
        "14. Rekordy zapisywane są przez 114 dni\n",
        "15. Różnica pomiędzy zapisami czasowymi wynosi ok 1 minuty dla większości 160179 rekordów (przedział czasowy <55s : 01m05s>)\n",
        "16. Dla kilku rekordów różnica pomiędzy zapisami czasowymi wynosi ok 1 godziny.\n",
        "17. Największa różnica pomiędzy zapisami czasowymi jest bliska jednej doby (23:38:42.740000).\n",
        "\n"
      ]
    },
    {
      "cell_type": "code",
      "metadata": {
        "id": "qVtYhoGkbHDK"
      },
      "source": [
        "import pandas as pd\n",
        "import numpy as np\n",
        "import matplotlib.pyplot as plt\n",
        "import datetime as dt\n",
        "\n",
        "%matplotlib inline"
      ],
      "execution_count": 179,
      "outputs": []
    },
    {
      "cell_type": "code",
      "metadata": {
        "id": "s24l1-G-bJ4T"
      },
      "source": [
        "df = pd.read_csv('https://bitpeak.pl/datasets/BCL_TaskCreation.csv', sep=';')"
      ],
      "execution_count": 180,
      "outputs": []
    },
    {
      "cell_type": "code",
      "metadata": {
        "colab": {
          "base_uri": "https://localhost:8080/",
          "height": 206
        },
        "id": "E_gSxtdtbSET",
        "outputId": "3bad88ad-4578-4191-c6e6-db51b12b6dcb"
      },
      "source": [
        "df.head()"
      ],
      "execution_count": 181,
      "outputs": [
        {
          "output_type": "execute_result",
          "data": {
            "text/html": [
              "<div>\n",
              "<style scoped>\n",
              "    .dataframe tbody tr th:only-of-type {\n",
              "        vertical-align: middle;\n",
              "    }\n",
              "\n",
              "    .dataframe tbody tr th {\n",
              "        vertical-align: top;\n",
              "    }\n",
              "\n",
              "    .dataframe thead th {\n",
              "        text-align: right;\n",
              "    }\n",
              "</style>\n",
              "<table border=\"1\" class=\"dataframe\">\n",
              "  <thead>\n",
              "    <tr style=\"text-align: right;\">\n",
              "      <th></th>\n",
              "      <th>dataStream</th>\n",
              "      <th>rowCount</th>\n",
              "      <th>probingTimestamp</th>\n",
              "    </tr>\n",
              "  </thead>\n",
              "  <tbody>\n",
              "    <tr>\n",
              "      <th>0</th>\n",
              "      <td>BCL_TaskCreation</td>\n",
              "      <td>315349655</td>\n",
              "      <td>2020-01-13 09:33:00.497</td>\n",
              "    </tr>\n",
              "    <tr>\n",
              "      <th>1</th>\n",
              "      <td>BCL_TaskCreation</td>\n",
              "      <td>315349655</td>\n",
              "      <td>2020-01-13 09:34:00.157</td>\n",
              "    </tr>\n",
              "    <tr>\n",
              "      <th>2</th>\n",
              "      <td>BCL_TaskCreation</td>\n",
              "      <td>314533770</td>\n",
              "      <td>2020-01-11 01:18:00.143</td>\n",
              "    </tr>\n",
              "    <tr>\n",
              "      <th>3</th>\n",
              "      <td>BCL_TaskCreation</td>\n",
              "      <td>289249872</td>\n",
              "      <td>2020-04-05 16:10:00.333</td>\n",
              "    </tr>\n",
              "    <tr>\n",
              "      <th>4</th>\n",
              "      <td>BCL_TaskCreation</td>\n",
              "      <td>289249872</td>\n",
              "      <td>2020-04-05 16:11:00.883</td>\n",
              "    </tr>\n",
              "  </tbody>\n",
              "</table>\n",
              "</div>"
            ],
            "text/plain": [
              "         dataStream   rowCount         probingTimestamp\n",
              "0  BCL_TaskCreation  315349655  2020-01-13 09:33:00.497\n",
              "1  BCL_TaskCreation  315349655  2020-01-13 09:34:00.157\n",
              "2  BCL_TaskCreation  314533770  2020-01-11 01:18:00.143\n",
              "3  BCL_TaskCreation  289249872  2020-04-05 16:10:00.333\n",
              "4  BCL_TaskCreation  289249872  2020-04-05 16:11:00.883"
            ]
          },
          "metadata": {},
          "execution_count": 181
        }
      ]
    },
    {
      "cell_type": "code",
      "metadata": {
        "colab": {
          "base_uri": "https://localhost:8080/",
          "height": 206
        },
        "id": "HJvuhm5ZbY0O",
        "outputId": "ad02ce1f-acfd-4f1d-d70e-45e70e7e00dd"
      },
      "source": [
        "df.tail()"
      ],
      "execution_count": 182,
      "outputs": [
        {
          "output_type": "execute_result",
          "data": {
            "text/html": [
              "<div>\n",
              "<style scoped>\n",
              "    .dataframe tbody tr th:only-of-type {\n",
              "        vertical-align: middle;\n",
              "    }\n",
              "\n",
              "    .dataframe tbody tr th {\n",
              "        vertical-align: top;\n",
              "    }\n",
              "\n",
              "    .dataframe thead th {\n",
              "        text-align: right;\n",
              "    }\n",
              "</style>\n",
              "<table border=\"1\" class=\"dataframe\">\n",
              "  <thead>\n",
              "    <tr style=\"text-align: right;\">\n",
              "      <th></th>\n",
              "      <th>dataStream</th>\n",
              "      <th>rowCount</th>\n",
              "      <th>probingTimestamp</th>\n",
              "    </tr>\n",
              "  </thead>\n",
              "  <tbody>\n",
              "    <tr>\n",
              "      <th>160730</th>\n",
              "      <td>BCL_TaskCreation</td>\n",
              "      <td>289702842</td>\n",
              "      <td>2020-05-02 04:43:00.767</td>\n",
              "    </tr>\n",
              "    <tr>\n",
              "      <th>160731</th>\n",
              "      <td>BCL_TaskCreation</td>\n",
              "      <td>289702943</td>\n",
              "      <td>2020-05-02 07:26:01.040</td>\n",
              "    </tr>\n",
              "    <tr>\n",
              "      <th>160732</th>\n",
              "      <td>BCL_TaskCreation</td>\n",
              "      <td>289702883</td>\n",
              "      <td>2020-05-02 06:10:00.157</td>\n",
              "    </tr>\n",
              "    <tr>\n",
              "      <th>160733</th>\n",
              "      <td>BCL_TaskCreation</td>\n",
              "      <td>289702842</td>\n",
              "      <td>2020-05-02 04:18:00.117</td>\n",
              "    </tr>\n",
              "    <tr>\n",
              "      <th>160734</th>\n",
              "      <td>BCL_TaskCreation</td>\n",
              "      <td>289702883</td>\n",
              "      <td>2020-05-02 06:11:00.597</td>\n",
              "    </tr>\n",
              "  </tbody>\n",
              "</table>\n",
              "</div>"
            ],
            "text/plain": [
              "              dataStream   rowCount         probingTimestamp\n",
              "160730  BCL_TaskCreation  289702842  2020-05-02 04:43:00.767\n",
              "160731  BCL_TaskCreation  289702943  2020-05-02 07:26:01.040\n",
              "160732  BCL_TaskCreation  289702883  2020-05-02 06:10:00.157\n",
              "160733  BCL_TaskCreation  289702842  2020-05-02 04:18:00.117\n",
              "160734  BCL_TaskCreation  289702883  2020-05-02 06:11:00.597"
            ]
          },
          "metadata": {},
          "execution_count": 182
        }
      ]
    },
    {
      "cell_type": "code",
      "metadata": {
        "colab": {
          "base_uri": "https://localhost:8080/"
        },
        "id": "SjcI1kXNbbFN",
        "outputId": "a024d151-08ad-4b6d-e12a-3a1bdac2b169"
      },
      "source": [
        "df.info()"
      ],
      "execution_count": 183,
      "outputs": [
        {
          "output_type": "stream",
          "name": "stdout",
          "text": [
            "<class 'pandas.core.frame.DataFrame'>\n",
            "RangeIndex: 160735 entries, 0 to 160734\n",
            "Data columns (total 3 columns):\n",
            " #   Column            Non-Null Count   Dtype \n",
            "---  ------            --------------   ----- \n",
            " 0   dataStream        160735 non-null  object\n",
            " 1   rowCount          160735 non-null  int64 \n",
            " 2   probingTimestamp  160735 non-null  object\n",
            "dtypes: int64(1), object(2)\n",
            "memory usage: 3.7+ MB\n"
          ]
        }
      ]
    },
    {
      "cell_type": "code",
      "metadata": {
        "colab": {
          "base_uri": "https://localhost:8080/"
        },
        "id": "TcidyLXWbe4Y",
        "outputId": "b43ef31e-da6a-4271-d298-5456d8e0190a"
      },
      "source": [
        "len(df.dataStream.unique())"
      ],
      "execution_count": 184,
      "outputs": [
        {
          "output_type": "execute_result",
          "data": {
            "text/plain": [
              "1"
            ]
          },
          "metadata": {},
          "execution_count": 184
        }
      ]
    },
    {
      "cell_type": "code",
      "metadata": {
        "colab": {
          "base_uri": "https://localhost:8080/"
        },
        "id": "DvVbmpqfb2uC",
        "outputId": "d5cd58fe-2003-42ed-ac37-a7556cf3d978"
      },
      "source": [
        "len(df.rowCount.unique())"
      ],
      "execution_count": 185,
      "outputs": [
        {
          "output_type": "execute_result",
          "data": {
            "text/plain": [
              "6612"
            ]
          },
          "metadata": {},
          "execution_count": 185
        }
      ]
    },
    {
      "cell_type": "code",
      "metadata": {
        "colab": {
          "base_uri": "https://localhost:8080/"
        },
        "id": "kHQQMM-McNQ0",
        "outputId": "07bc87a7-c8e5-473c-901d-b5299510a759"
      },
      "source": [
        "len(df.probingTimestamp.unique())"
      ],
      "execution_count": 186,
      "outputs": [
        {
          "output_type": "execute_result",
          "data": {
            "text/plain": [
              "160513"
            ]
          },
          "metadata": {},
          "execution_count": 186
        }
      ]
    },
    {
      "cell_type": "code",
      "metadata": {
        "id": "ZrtLVhB9ieIz"
      },
      "source": [
        "df.drop_duplicates(inplace=True)"
      ],
      "execution_count": 187,
      "outputs": []
    },
    {
      "cell_type": "code",
      "metadata": {
        "colab": {
          "base_uri": "https://localhost:8080/"
        },
        "id": "sJkmfa-Ojsvs",
        "outputId": "cc4015ae-db5e-4ad0-a8cf-3ddb4ab5ac08"
      },
      "source": [
        "df.info()"
      ],
      "execution_count": 188,
      "outputs": [
        {
          "output_type": "stream",
          "name": "stdout",
          "text": [
            "<class 'pandas.core.frame.DataFrame'>\n",
            "Int64Index: 160513 entries, 0 to 160734\n",
            "Data columns (total 3 columns):\n",
            " #   Column            Non-Null Count   Dtype \n",
            "---  ------            --------------   ----- \n",
            " 0   dataStream        160513 non-null  object\n",
            " 1   rowCount          160513 non-null  int64 \n",
            " 2   probingTimestamp  160513 non-null  object\n",
            "dtypes: int64(1), object(2)\n",
            "memory usage: 4.9+ MB\n"
          ]
        }
      ]
    },
    {
      "cell_type": "code",
      "metadata": {
        "colab": {
          "base_uri": "https://localhost:8080/"
        },
        "id": "Rys6zsPmcYaY",
        "outputId": "78c2b5e3-51c7-46ae-a49d-be76407394f1"
      },
      "source": [
        "df.rowCount.value_counts()"
      ],
      "execution_count": 189,
      "outputs": [
        {
          "output_type": "execute_result",
          "data": {
            "text/plain": [
              "318665910    3951\n",
              "317651677    2831\n",
              "285498466    1380\n",
              "325841983    1337\n",
              "289503125     520\n",
              "             ... \n",
              "319425910       1\n",
              "315847897       1\n",
              "326091983       1\n",
              "314811587       1\n",
              "334413736       1\n",
              "Name: rowCount, Length: 6612, dtype: int64"
            ]
          },
          "metadata": {},
          "execution_count": 189
        }
      ]
    },
    {
      "cell_type": "code",
      "metadata": {
        "colab": {
          "base_uri": "https://localhost:8080/"
        },
        "id": "4x-0Ed2Xcen0",
        "outputId": "eda8d583-7c1c-4354-bd2b-59c78ca66f8e"
      },
      "source": [
        "df.axes"
      ],
      "execution_count": 190,
      "outputs": [
        {
          "output_type": "execute_result",
          "data": {
            "text/plain": [
              "[Int64Index([     0,      1,      2,      3,      4,      5,      6,      7,\n",
              "                  8,      9,\n",
              "             ...\n",
              "             160725, 160726, 160727, 160728, 160729, 160730, 160731, 160732,\n",
              "             160733, 160734],\n",
              "            dtype='int64', length=160513),\n",
              " Index(['dataStream', 'rowCount', 'probingTimestamp'], dtype='object')]"
            ]
          },
          "metadata": {},
          "execution_count": 190
        }
      ]
    },
    {
      "cell_type": "code",
      "metadata": {
        "colab": {
          "base_uri": "https://localhost:8080/"
        },
        "id": "bMrusWscdA2a",
        "outputId": "445f4de2-dfe5-48a5-d4c2-179fa2ece370"
      },
      "source": [
        "df.shape"
      ],
      "execution_count": 191,
      "outputs": [
        {
          "output_type": "execute_result",
          "data": {
            "text/plain": [
              "(160513, 3)"
            ]
          },
          "metadata": {},
          "execution_count": 191
        }
      ]
    },
    {
      "cell_type": "code",
      "metadata": {
        "colab": {
          "base_uri": "https://localhost:8080/"
        },
        "id": "t1_N6xGZdDhk",
        "outputId": "1b938357-2986-4583-9b0a-0926dfecb891"
      },
      "source": [
        "df.count()"
      ],
      "execution_count": 192,
      "outputs": [
        {
          "output_type": "execute_result",
          "data": {
            "text/plain": [
              "dataStream          160513\n",
              "rowCount            160513\n",
              "probingTimestamp    160513\n",
              "dtype: int64"
            ]
          },
          "metadata": {},
          "execution_count": 192
        }
      ]
    },
    {
      "cell_type": "code",
      "metadata": {
        "id": "YA_4N-iUdHGi"
      },
      "source": [
        "df.sort_values(by='probingTimestamp', inplace=True)"
      ],
      "execution_count": 193,
      "outputs": []
    },
    {
      "cell_type": "code",
      "metadata": {
        "colab": {
          "base_uri": "https://localhost:8080/",
          "height": 143
        },
        "id": "BD8pnrK7ddcE",
        "outputId": "d2ed617b-7ff5-4fe0-d874-e921e98d35a1"
      },
      "source": [
        "df.head(3)"
      ],
      "execution_count": 194,
      "outputs": [
        {
          "output_type": "execute_result",
          "data": {
            "text/html": [
              "<div>\n",
              "<style scoped>\n",
              "    .dataframe tbody tr th:only-of-type {\n",
              "        vertical-align: middle;\n",
              "    }\n",
              "\n",
              "    .dataframe tbody tr th {\n",
              "        vertical-align: top;\n",
              "    }\n",
              "\n",
              "    .dataframe thead th {\n",
              "        text-align: right;\n",
              "    }\n",
              "</style>\n",
              "<table border=\"1\" class=\"dataframe\">\n",
              "  <thead>\n",
              "    <tr style=\"text-align: right;\">\n",
              "      <th></th>\n",
              "      <th>dataStream</th>\n",
              "      <th>rowCount</th>\n",
              "      <th>probingTimestamp</th>\n",
              "    </tr>\n",
              "  </thead>\n",
              "  <tbody>\n",
              "    <tr>\n",
              "      <th>3506</th>\n",
              "      <td>BCL_TaskCreation</td>\n",
              "      <td>314015548</td>\n",
              "      <td>2020-01-10 10:04:18.837</td>\n",
              "    </tr>\n",
              "    <tr>\n",
              "      <th>3505</th>\n",
              "      <td>BCL_TaskCreation</td>\n",
              "      <td>314015548</td>\n",
              "      <td>2020-01-10 10:16:29.063</td>\n",
              "    </tr>\n",
              "    <tr>\n",
              "      <th>3507</th>\n",
              "      <td>BCL_TaskCreation</td>\n",
              "      <td>314015548</td>\n",
              "      <td>2020-01-10 10:17:00.510</td>\n",
              "    </tr>\n",
              "  </tbody>\n",
              "</table>\n",
              "</div>"
            ],
            "text/plain": [
              "            dataStream   rowCount         probingTimestamp\n",
              "3506  BCL_TaskCreation  314015548  2020-01-10 10:04:18.837\n",
              "3505  BCL_TaskCreation  314015548  2020-01-10 10:16:29.063\n",
              "3507  BCL_TaskCreation  314015548  2020-01-10 10:17:00.510"
            ]
          },
          "metadata": {},
          "execution_count": 194
        }
      ]
    },
    {
      "cell_type": "code",
      "metadata": {
        "colab": {
          "base_uri": "https://localhost:8080/",
          "height": 143
        },
        "id": "xEfVKdF8dewL",
        "outputId": "e23de3b2-8fe7-4c95-cce5-2bee6d8e214c"
      },
      "source": [
        "df.tail(3)"
      ],
      "execution_count": 195,
      "outputs": [
        {
          "output_type": "execute_result",
          "data": {
            "text/html": [
              "<div>\n",
              "<style scoped>\n",
              "    .dataframe tbody tr th:only-of-type {\n",
              "        vertical-align: middle;\n",
              "    }\n",
              "\n",
              "    .dataframe tbody tr th {\n",
              "        vertical-align: top;\n",
              "    }\n",
              "\n",
              "    .dataframe thead th {\n",
              "        text-align: right;\n",
              "    }\n",
              "</style>\n",
              "<table border=\"1\" class=\"dataframe\">\n",
              "  <thead>\n",
              "    <tr style=\"text-align: right;\">\n",
              "      <th></th>\n",
              "      <th>dataStream</th>\n",
              "      <th>rowCount</th>\n",
              "      <th>probingTimestamp</th>\n",
              "    </tr>\n",
              "  </thead>\n",
              "  <tbody>\n",
              "    <tr>\n",
              "      <th>160369</th>\n",
              "      <td>BCL_TaskCreation</td>\n",
              "      <td>289702943</td>\n",
              "      <td>2020-05-02 07:58:00.083</td>\n",
              "    </tr>\n",
              "    <tr>\n",
              "      <th>160373</th>\n",
              "      <td>BCL_TaskCreation</td>\n",
              "      <td>289702943</td>\n",
              "      <td>2020-05-02 07:59:00.543</td>\n",
              "    </tr>\n",
              "    <tr>\n",
              "      <th>160058</th>\n",
              "      <td>BCL_TaskCreation</td>\n",
              "      <td>289702943</td>\n",
              "      <td>2020-05-02 08:00:00.120</td>\n",
              "    </tr>\n",
              "  </tbody>\n",
              "</table>\n",
              "</div>"
            ],
            "text/plain": [
              "              dataStream   rowCount         probingTimestamp\n",
              "160369  BCL_TaskCreation  289702943  2020-05-02 07:58:00.083\n",
              "160373  BCL_TaskCreation  289702943  2020-05-02 07:59:00.543\n",
              "160058  BCL_TaskCreation  289702943  2020-05-02 08:00:00.120"
            ]
          },
          "metadata": {},
          "execution_count": 195
        }
      ]
    },
    {
      "cell_type": "code",
      "metadata": {
        "colab": {
          "base_uri": "https://localhost:8080/"
        },
        "id": "d9l-Gmkhdh3c",
        "outputId": "09d90bd3-3264-43f8-c372-5d0b0fc6176a"
      },
      "source": [
        "df.dtypes"
      ],
      "execution_count": 196,
      "outputs": [
        {
          "output_type": "execute_result",
          "data": {
            "text/plain": [
              "dataStream          object\n",
              "rowCount             int64\n",
              "probingTimestamp    object\n",
              "dtype: object"
            ]
          },
          "metadata": {},
          "execution_count": 196
        }
      ]
    },
    {
      "cell_type": "code",
      "metadata": {
        "id": "CmH42j49eGi9"
      },
      "source": [
        "df['probingTimestamp'] = pd.to_datetime(df['probingTimestamp'])"
      ],
      "execution_count": 197,
      "outputs": []
    },
    {
      "cell_type": "code",
      "metadata": {
        "colab": {
          "base_uri": "https://localhost:8080/"
        },
        "id": "ZsqWPUP3ed71",
        "outputId": "b7c580a2-ba3b-44b3-b3e0-d254ad08d2d3"
      },
      "source": [
        "df.dtypes"
      ],
      "execution_count": 198,
      "outputs": [
        {
          "output_type": "execute_result",
          "data": {
            "text/plain": [
              "dataStream                  object\n",
              "rowCount                     int64\n",
              "probingTimestamp    datetime64[ns]\n",
              "dtype: object"
            ]
          },
          "metadata": {},
          "execution_count": 198
        }
      ]
    },
    {
      "cell_type": "code",
      "metadata": {
        "colab": {
          "base_uri": "https://localhost:8080/",
          "height": 276
        },
        "id": "0M-R9mjjegIw",
        "outputId": "81ec71b6-f023-4db2-9185-6e9f51bf41de"
      },
      "source": [
        "plt.scatter(df['probingTimestamp'], df['rowCount'], s=1)\n",
        "plt.show()"
      ],
      "execution_count": 199,
      "outputs": [
        {
          "output_type": "display_data",
          "data": {
            "image/png": "[encoded data removed]",
            "text/plain": [
              "<Figure size 432x288 with 1 Axes>"
            ]
          },
          "metadata": {
            "needs_background": "light"
          }
        }
      ]
    },
    {
      "cell_type": "code",
      "metadata": {
        "colab": {
          "base_uri": "https://localhost:8080/"
        },
        "id": "EHYTAE0sj84t",
        "outputId": "c4048934-7eac-45c3-c18e-a45388ce8732"
      },
      "source": [
        "df.probingTimestamp.max()"
      ],
      "execution_count": 200,
      "outputs": [
        {
          "output_type": "execute_result",
          "data": {
            "text/plain": [
              "Timestamp('2020-05-02 08:00:00.120000')"
            ]
          },
          "metadata": {},
          "execution_count": 200
        }
      ]
    },
    {
      "cell_type": "code",
      "metadata": {
        "colab": {
          "base_uri": "https://localhost:8080/"
        },
        "id": "uGpSL6bIkbVH",
        "outputId": "10f56649-fa21-4e68-ab2e-a17e16f401cb"
      },
      "source": [
        "df.probingTimestamp.min()"
      ],
      "execution_count": 201,
      "outputs": [
        {
          "output_type": "execute_result",
          "data": {
            "text/plain": [
              "Timestamp('2020-01-10 10:04:18.837000')"
            ]
          },
          "metadata": {},
          "execution_count": 201
        }
      ]
    },
    {
      "cell_type": "code",
      "metadata": {
        "colab": {
          "base_uri": "https://localhost:8080/"
        },
        "id": "QAzyoLiEkhWb",
        "outputId": "1f13e700-e213-44a1-f897-0065d8cbd09b"
      },
      "source": [
        "df.rowCount.max()"
      ],
      "execution_count": 202,
      "outputs": [
        {
          "output_type": "execute_result",
          "data": {
            "text/plain": [
              "338841446"
            ]
          },
          "metadata": {},
          "execution_count": 202
        }
      ]
    },
    {
      "cell_type": "code",
      "metadata": {
        "colab": {
          "base_uri": "https://localhost:8080/"
        },
        "id": "TJld_Tb_mmx2",
        "outputId": "f2b2db00-d9c2-4637-8863-80644a032f44"
      },
      "source": [
        "df.rowCount.min()"
      ],
      "execution_count": 203,
      "outputs": [
        {
          "output_type": "execute_result",
          "data": {
            "text/plain": [
              "283240055"
            ]
          },
          "metadata": {},
          "execution_count": 203
        }
      ]
    },
    {
      "cell_type": "code",
      "metadata": {
        "colab": {
          "base_uri": "https://localhost:8080/"
        },
        "id": "OFo5fuwymp5n",
        "outputId": "9268d8a9-7f96-46c1-f8ff-72add740f0a8"
      },
      "source": [
        "df.probingTimestamp.where(df.rowCount == df.rowCount.max()).dropna().head()"
      ],
      "execution_count": 204,
      "outputs": [
        {
          "output_type": "execute_result",
          "data": {
            "text/plain": [
              "80086   2020-03-06 09:03:00.980\n",
              "80087   2020-03-06 09:04:00.467\n",
              "80657   2020-03-06 09:05:01.010\n",
              "80656   2020-03-06 09:06:00.503\n",
              "80590   2020-03-06 09:07:00.037\n",
              "Name: probingTimestamp, dtype: datetime64[ns]"
            ]
          },
          "metadata": {},
          "execution_count": 204
        }
      ]
    },
    {
      "cell_type": "code",
      "metadata": {
        "colab": {
          "base_uri": "https://localhost:8080/"
        },
        "id": "dSLVx5M6nsm2",
        "outputId": "65d156db-18fd-4f35-df3a-74a258ee5c07"
      },
      "source": [
        "df.probingTimestamp.where(df.rowCount == df.rowCount.max()).dropna().tail()"
      ],
      "execution_count": 205,
      "outputs": [
        {
          "output_type": "execute_result",
          "data": {
            "text/plain": [
              "80386   2020-03-06 09:54:00.550\n",
              "80400   2020-03-06 09:55:00.043\n",
              "80401   2020-03-06 09:56:00.573\n",
              "80402   2020-03-06 09:57:00.040\n",
              "80403   2020-03-06 09:58:00.510\n",
              "Name: probingTimestamp, dtype: datetime64[ns]"
            ]
          },
          "metadata": {},
          "execution_count": 205
        }
      ]
    },
    {
      "cell_type": "code",
      "metadata": {
        "colab": {
          "base_uri": "https://localhost:8080/"
        },
        "id": "Su5nwZdCoMhw",
        "outputId": "0fa0abd3-3a40-49ef-9bff-a2a877fe2de1"
      },
      "source": [
        "df.probingTimestamp.where(df.rowCount == df.rowCount.min()).dropna().head()"
      ],
      "execution_count": 206,
      "outputs": [
        {
          "output_type": "execute_result",
          "data": {
            "text/plain": [
              "84761   2020-03-09 13:38:00.147\n",
              "84762   2020-03-09 13:39:00.717\n",
              "84758   2020-03-09 13:40:00.290\n",
              "84763   2020-03-09 13:41:00.883\n",
              "84764   2020-03-09 13:42:00.353\n",
              "Name: probingTimestamp, dtype: datetime64[ns]"
            ]
          },
          "metadata": {},
          "execution_count": 206
        }
      ]
    },
    {
      "cell_type": "code",
      "metadata": {
        "colab": {
          "base_uri": "https://localhost:8080/"
        },
        "id": "tMWQn5pUoa4s",
        "outputId": "fae9695f-4220-4fb3-f43b-6c4949909523"
      },
      "source": [
        "df.probingTimestamp.where(df.rowCount == df.rowCount.min()).dropna().tail()"
      ],
      "execution_count": 207,
      "outputs": [
        {
          "output_type": "execute_result",
          "data": {
            "text/plain": [
              "85217   2020-03-09 13:56:00.947\n",
              "85218   2020-03-09 13:57:00.797\n",
              "85219   2020-03-09 13:58:00.257\n",
              "85220   2020-03-09 13:59:00.750\n",
              "85221   2020-03-09 14:00:00.283\n",
              "Name: probingTimestamp, dtype: datetime64[ns]"
            ]
          },
          "metadata": {},
          "execution_count": 207
        }
      ]
    },
    {
      "cell_type": "code",
      "metadata": {
        "id": "Ls862DtIohLZ"
      },
      "source": [
        "df['date'] = df.probingTimestamp.dt.date"
      ],
      "execution_count": 208,
      "outputs": []
    },
    {
      "cell_type": "code",
      "metadata": {
        "colab": {
          "base_uri": "https://localhost:8080/",
          "height": 206
        },
        "id": "m-nDMZAcpT1N",
        "outputId": "f2755228-456c-45d1-d5ee-4d609384f586"
      },
      "source": [
        "df.head()"
      ],
      "execution_count": 209,
      "outputs": [
        {
          "output_type": "execute_result",
          "data": {
            "text/html": [
              "<div>\n",
              "<style scoped>\n",
              "    .dataframe tbody tr th:only-of-type {\n",
              "        vertical-align: middle;\n",
              "    }\n",
              "\n",
              "    .dataframe tbody tr th {\n",
              "        vertical-align: top;\n",
              "    }\n",
              "\n",
              "    .dataframe thead th {\n",
              "        text-align: right;\n",
              "    }\n",
              "</style>\n",
              "<table border=\"1\" class=\"dataframe\">\n",
              "  <thead>\n",
              "    <tr style=\"text-align: right;\">\n",
              "      <th></th>\n",
              "      <th>dataStream</th>\n",
              "      <th>rowCount</th>\n",
              "      <th>probingTimestamp</th>\n",
              "      <th>date</th>\n",
              "    </tr>\n",
              "  </thead>\n",
              "  <tbody>\n",
              "    <tr>\n",
              "      <th>3506</th>\n",
              "      <td>BCL_TaskCreation</td>\n",
              "      <td>314015548</td>\n",
              "      <td>2020-01-10 10:04:18.837</td>\n",
              "      <td>2020-01-10</td>\n",
              "    </tr>\n",
              "    <tr>\n",
              "      <th>3505</th>\n",
              "      <td>BCL_TaskCreation</td>\n",
              "      <td>314015548</td>\n",
              "      <td>2020-01-10 10:16:29.063</td>\n",
              "      <td>2020-01-10</td>\n",
              "    </tr>\n",
              "    <tr>\n",
              "      <th>3507</th>\n",
              "      <td>BCL_TaskCreation</td>\n",
              "      <td>314015548</td>\n",
              "      <td>2020-01-10 10:17:00.510</td>\n",
              "      <td>2020-01-10</td>\n",
              "    </tr>\n",
              "    <tr>\n",
              "      <th>3512</th>\n",
              "      <td>BCL_TaskCreation</td>\n",
              "      <td>314015548</td>\n",
              "      <td>2020-01-10 10:18:00.977</td>\n",
              "      <td>2020-01-10</td>\n",
              "    </tr>\n",
              "    <tr>\n",
              "      <th>3513</th>\n",
              "      <td>BCL_TaskCreation</td>\n",
              "      <td>314015548</td>\n",
              "      <td>2020-01-10 10:19:00.610</td>\n",
              "      <td>2020-01-10</td>\n",
              "    </tr>\n",
              "  </tbody>\n",
              "</table>\n",
              "</div>"
            ],
            "text/plain": [
              "            dataStream   rowCount        probingTimestamp        date\n",
              "3506  BCL_TaskCreation  314015548 2020-01-10 10:04:18.837  2020-01-10\n",
              "3505  BCL_TaskCreation  314015548 2020-01-10 10:16:29.063  2020-01-10\n",
              "3507  BCL_TaskCreation  314015548 2020-01-10 10:17:00.510  2020-01-10\n",
              "3512  BCL_TaskCreation  314015548 2020-01-10 10:18:00.977  2020-01-10\n",
              "3513  BCL_TaskCreation  314015548 2020-01-10 10:19:00.610  2020-01-10"
            ]
          },
          "metadata": {},
          "execution_count": 209
        }
      ]
    },
    {
      "cell_type": "code",
      "metadata": {
        "colab": {
          "base_uri": "https://localhost:8080/"
        },
        "id": "ZUmsH7v3pWpp",
        "outputId": "4b12cec8-518e-4443-c3fa-5317ed23949f"
      },
      "source": [
        "df.date.value_counts()"
      ],
      "execution_count": 210,
      "outputs": [
        {
          "output_type": "execute_result",
          "data": {
            "text/plain": [
              "2020-01-22    1440\n",
              "2020-02-15    1440\n",
              "2020-01-21    1440\n",
              "2020-02-04    1440\n",
              "2020-01-12    1440\n",
              "              ... \n",
              "2020-04-05    1307\n",
              "2020-01-10     825\n",
              "2020-04-07     810\n",
              "2020-04-06     649\n",
              "2020-05-02     480\n",
              "Name: date, Length: 114, dtype: int64"
            ]
          },
          "metadata": {},
          "execution_count": 210
        }
      ]
    },
    {
      "cell_type": "code",
      "metadata": {
        "id": "QyHdyH2fppgA"
      },
      "source": [
        "df['weekDay'] = df.probingTimestamp.dt.weekday"
      ],
      "execution_count": 211,
      "outputs": []
    },
    {
      "cell_type": "code",
      "metadata": {
        "colab": {
          "base_uri": "https://localhost:8080/",
          "height": 143
        },
        "id": "9Fg3Wa-SqeHy",
        "outputId": "acdb1c58-0bea-4ba5-ce91-fc78ab178c39"
      },
      "source": [
        "df.head(3)"
      ],
      "execution_count": 212,
      "outputs": [
        {
          "output_type": "execute_result",
          "data": {
            "text/html": [
              "<div>\n",
              "<style scoped>\n",
              "    .dataframe tbody tr th:only-of-type {\n",
              "        vertical-align: middle;\n",
              "    }\n",
              "\n",
              "    .dataframe tbody tr th {\n",
              "        vertical-align: top;\n",
              "    }\n",
              "\n",
              "    .dataframe thead th {\n",
              "        text-align: right;\n",
              "    }\n",
              "</style>\n",
              "<table border=\"1\" class=\"dataframe\">\n",
              "  <thead>\n",
              "    <tr style=\"text-align: right;\">\n",
              "      <th></th>\n",
              "      <th>dataStream</th>\n",
              "      <th>rowCount</th>\n",
              "      <th>probingTimestamp</th>\n",
              "      <th>date</th>\n",
              "      <th>weekDay</th>\n",
              "    </tr>\n",
              "  </thead>\n",
              "  <tbody>\n",
              "    <tr>\n",
              "      <th>3506</th>\n",
              "      <td>BCL_TaskCreation</td>\n",
              "      <td>314015548</td>\n",
              "      <td>2020-01-10 10:04:18.837</td>\n",
              "      <td>2020-01-10</td>\n",
              "      <td>4</td>\n",
              "    </tr>\n",
              "    <tr>\n",
              "      <th>3505</th>\n",
              "      <td>BCL_TaskCreation</td>\n",
              "      <td>314015548</td>\n",
              "      <td>2020-01-10 10:16:29.063</td>\n",
              "      <td>2020-01-10</td>\n",
              "      <td>4</td>\n",
              "    </tr>\n",
              "    <tr>\n",
              "      <th>3507</th>\n",
              "      <td>BCL_TaskCreation</td>\n",
              "      <td>314015548</td>\n",
              "      <td>2020-01-10 10:17:00.510</td>\n",
              "      <td>2020-01-10</td>\n",
              "      <td>4</td>\n",
              "    </tr>\n",
              "  </tbody>\n",
              "</table>\n",
              "</div>"
            ],
            "text/plain": [
              "            dataStream   rowCount        probingTimestamp        date  weekDay\n",
              "3506  BCL_TaskCreation  314015548 2020-01-10 10:04:18.837  2020-01-10        4\n",
              "3505  BCL_TaskCreation  314015548 2020-01-10 10:16:29.063  2020-01-10        4\n",
              "3507  BCL_TaskCreation  314015548 2020-01-10 10:17:00.510  2020-01-10        4"
            ]
          },
          "metadata": {},
          "execution_count": 212
        }
      ]
    },
    {
      "cell_type": "code",
      "metadata": {
        "colab": {
          "base_uri": "https://localhost:8080/"
        },
        "id": "DxQihadgqk6A",
        "outputId": "3b9f4e6a-bd74-46a8-c3cf-cf0eff50536b"
      },
      "source": [
        "df['weekDay'].value_counts()"
      ],
      "execution_count": 213,
      "outputs": [
        {
          "output_type": "execute_result",
          "data": {
            "text/plain": [
              "4    23846\n",
              "5    23388\n",
              "3    22954\n",
              "2    22928\n",
              "6    22881\n",
              "1    22322\n",
              "0    22194\n",
              "Name: weekDay, dtype: int64"
            ]
          },
          "metadata": {},
          "execution_count": 213
        }
      ]
    },
    {
      "cell_type": "code",
      "metadata": {
        "id": "BHvgfCU7qq6h"
      },
      "source": [
        "groupByDate = df.groupby(by='date')"
      ],
      "execution_count": 214,
      "outputs": []
    },
    {
      "cell_type": "code",
      "metadata": {
        "colab": {
          "base_uri": "https://localhost:8080/"
        },
        "id": "hjJ68p7GrC0L",
        "outputId": "38ed2949-4855-45f0-a4fa-3152bf7661c8"
      },
      "source": [
        "len(groupByDate.groups)"
      ],
      "execution_count": 215,
      "outputs": [
        {
          "output_type": "execute_result",
          "data": {
            "text/plain": [
              "114"
            ]
          },
          "metadata": {},
          "execution_count": 215
        }
      ]
    },
    {
      "cell_type": "code",
      "metadata": {
        "id": "x2bH0SJlrHu8"
      },
      "source": [
        "groupByRowCount = df.groupby(by='rowCount')"
      ],
      "execution_count": 216,
      "outputs": []
    },
    {
      "cell_type": "code",
      "metadata": {
        "colab": {
          "base_uri": "https://localhost:8080/"
        },
        "id": "8gNRjsV4rSYK",
        "outputId": "fd5341e2-d004-40fe-e185-2cff3a4681b9"
      },
      "source": [
        "len(groupByRowCount.groups)"
      ],
      "execution_count": 217,
      "outputs": [
        {
          "output_type": "execute_result",
          "data": {
            "text/plain": [
              "6612"
            ]
          },
          "metadata": {},
          "execution_count": 217
        }
      ]
    },
    {
      "cell_type": "code",
      "metadata": {
        "id": "KHBypsG4rVmp"
      },
      "source": [
        "df['timeDiff'] =  df['probingTimestamp'] - df['probingTimestamp'].shift(1)"
      ],
      "execution_count": 218,
      "outputs": []
    },
    {
      "cell_type": "code",
      "metadata": {
        "colab": {
          "base_uri": "https://localhost:8080/",
          "height": 363
        },
        "id": "4UFqMM1hr6xA",
        "outputId": "b0629b49-505a-4d15-ffef-9431ef658acc"
      },
      "source": [
        "df.head(10)"
      ],
      "execution_count": 219,
      "outputs": [
        {
          "output_type": "execute_result",
          "data": {
            "text/html": [
              "<div>\n",
              "<style scoped>\n",
              "    .dataframe tbody tr th:only-of-type {\n",
              "        vertical-align: middle;\n",
              "    }\n",
              "\n",
              "    .dataframe tbody tr th {\n",
              "        vertical-align: top;\n",
              "    }\n",
              "\n",
              "    .dataframe thead th {\n",
              "        text-align: right;\n",
              "    }\n",
              "</style>\n",
              "<table border=\"1\" class=\"dataframe\">\n",
              "  <thead>\n",
              "    <tr style=\"text-align: right;\">\n",
              "      <th></th>\n",
              "      <th>dataStream</th>\n",
              "      <th>rowCount</th>\n",
              "      <th>probingTimestamp</th>\n",
              "      <th>date</th>\n",
              "      <th>weekDay</th>\n",
              "      <th>timeDiff</th>\n",
              "    </tr>\n",
              "  </thead>\n",
              "  <tbody>\n",
              "    <tr>\n",
              "      <th>3506</th>\n",
              "      <td>BCL_TaskCreation</td>\n",
              "      <td>314015548</td>\n",
              "      <td>2020-01-10 10:04:18.837</td>\n",
              "      <td>2020-01-10</td>\n",
              "      <td>4</td>\n",
              "      <td>NaT</td>\n",
              "    </tr>\n",
              "    <tr>\n",
              "      <th>3505</th>\n",
              "      <td>BCL_TaskCreation</td>\n",
              "      <td>314015548</td>\n",
              "      <td>2020-01-10 10:16:29.063</td>\n",
              "      <td>2020-01-10</td>\n",
              "      <td>4</td>\n",
              "      <td>0 days 00:12:10.226000</td>\n",
              "    </tr>\n",
              "    <tr>\n",
              "      <th>3507</th>\n",
              "      <td>BCL_TaskCreation</td>\n",
              "      <td>314015548</td>\n",
              "      <td>2020-01-10 10:17:00.510</td>\n",
              "      <td>2020-01-10</td>\n",
              "      <td>4</td>\n",
              "      <td>0 days 00:00:31.447000</td>\n",
              "    </tr>\n",
              "    <tr>\n",
              "      <th>3512</th>\n",
              "      <td>BCL_TaskCreation</td>\n",
              "      <td>314015548</td>\n",
              "      <td>2020-01-10 10:18:00.977</td>\n",
              "      <td>2020-01-10</td>\n",
              "      <td>4</td>\n",
              "      <td>0 days 00:01:00.467000</td>\n",
              "    </tr>\n",
              "    <tr>\n",
              "      <th>3513</th>\n",
              "      <td>BCL_TaskCreation</td>\n",
              "      <td>314015548</td>\n",
              "      <td>2020-01-10 10:19:00.610</td>\n",
              "      <td>2020-01-10</td>\n",
              "      <td>4</td>\n",
              "      <td>0 days 00:00:59.633000</td>\n",
              "    </tr>\n",
              "    <tr>\n",
              "      <th>3514</th>\n",
              "      <td>BCL_TaskCreation</td>\n",
              "      <td>314015548</td>\n",
              "      <td>2020-01-10 10:20:00.970</td>\n",
              "      <td>2020-01-10</td>\n",
              "      <td>4</td>\n",
              "      <td>0 days 00:01:00.360000</td>\n",
              "    </tr>\n",
              "    <tr>\n",
              "      <th>3515</th>\n",
              "      <td>BCL_TaskCreation</td>\n",
              "      <td>314015548</td>\n",
              "      <td>2020-01-10 10:21:00.440</td>\n",
              "      <td>2020-01-10</td>\n",
              "      <td>4</td>\n",
              "      <td>0 days 00:00:59.470000</td>\n",
              "    </tr>\n",
              "    <tr>\n",
              "      <th>3516</th>\n",
              "      <td>BCL_TaskCreation</td>\n",
              "      <td>314015548</td>\n",
              "      <td>2020-01-10 10:22:00.933</td>\n",
              "      <td>2020-01-10</td>\n",
              "      <td>4</td>\n",
              "      <td>0 days 00:01:00.493000</td>\n",
              "    </tr>\n",
              "    <tr>\n",
              "      <th>3518</th>\n",
              "      <td>BCL_TaskCreation</td>\n",
              "      <td>314015548</td>\n",
              "      <td>2020-01-10 10:23:00.893</td>\n",
              "      <td>2020-01-10</td>\n",
              "      <td>4</td>\n",
              "      <td>0 days 00:00:59.960000</td>\n",
              "    </tr>\n",
              "    <tr>\n",
              "      <th>3406</th>\n",
              "      <td>BCL_TaskCreation</td>\n",
              "      <td>314015548</td>\n",
              "      <td>2020-01-10 10:24:00.407</td>\n",
              "      <td>2020-01-10</td>\n",
              "      <td>4</td>\n",
              "      <td>0 days 00:00:59.514000</td>\n",
              "    </tr>\n",
              "  </tbody>\n",
              "</table>\n",
              "</div>"
            ],
            "text/plain": [
              "            dataStream   rowCount  ... weekDay               timeDiff\n",
              "3506  BCL_TaskCreation  314015548  ...       4                    NaT\n",
              "3505  BCL_TaskCreation  314015548  ...       4 0 days 00:12:10.226000\n",
              "3507  BCL_TaskCreation  314015548  ...       4 0 days 00:00:31.447000\n",
              "3512  BCL_TaskCreation  314015548  ...       4 0 days 00:01:00.467000\n",
              "3513  BCL_TaskCreation  314015548  ...       4 0 days 00:00:59.633000\n",
              "3514  BCL_TaskCreation  314015548  ...       4 0 days 00:01:00.360000\n",
              "3515  BCL_TaskCreation  314015548  ...       4 0 days 00:00:59.470000\n",
              "3516  BCL_TaskCreation  314015548  ...       4 0 days 00:01:00.493000\n",
              "3518  BCL_TaskCreation  314015548  ...       4 0 days 00:00:59.960000\n",
              "3406  BCL_TaskCreation  314015548  ...       4 0 days 00:00:59.514000\n",
              "\n",
              "[10 rows x 6 columns]"
            ]
          },
          "metadata": {},
          "execution_count": 219
        }
      ]
    },
    {
      "cell_type": "code",
      "metadata": {
        "colab": {
          "base_uri": "https://localhost:8080/",
          "height": 363
        },
        "id": "Gldb3g4cr8bP",
        "outputId": "0fb17a40-15a1-4b14-dfbc-f655934d7ec8"
      },
      "source": [
        "df.tail(10)"
      ],
      "execution_count": 220,
      "outputs": [
        {
          "output_type": "execute_result",
          "data": {
            "text/html": [
              "<div>\n",
              "<style scoped>\n",
              "    .dataframe tbody tr th:only-of-type {\n",
              "        vertical-align: middle;\n",
              "    }\n",
              "\n",
              "    .dataframe tbody tr th {\n",
              "        vertical-align: top;\n",
              "    }\n",
              "\n",
              "    .dataframe thead th {\n",
              "        text-align: right;\n",
              "    }\n",
              "</style>\n",
              "<table border=\"1\" class=\"dataframe\">\n",
              "  <thead>\n",
              "    <tr style=\"text-align: right;\">\n",
              "      <th></th>\n",
              "      <th>dataStream</th>\n",
              "      <th>rowCount</th>\n",
              "      <th>probingTimestamp</th>\n",
              "      <th>date</th>\n",
              "      <th>weekDay</th>\n",
              "      <th>timeDiff</th>\n",
              "    </tr>\n",
              "  </thead>\n",
              "  <tbody>\n",
              "    <tr>\n",
              "      <th>160694</th>\n",
              "      <td>BCL_TaskCreation</td>\n",
              "      <td>289702943</td>\n",
              "      <td>2020-05-02 07:51:00.577</td>\n",
              "      <td>2020-05-02</td>\n",
              "      <td>5</td>\n",
              "      <td>0 days 00:01:00.497000</td>\n",
              "    </tr>\n",
              "    <tr>\n",
              "      <th>159816</th>\n",
              "      <td>BCL_TaskCreation</td>\n",
              "      <td>289702943</td>\n",
              "      <td>2020-05-02 07:52:00.090</td>\n",
              "      <td>2020-05-02</td>\n",
              "      <td>5</td>\n",
              "      <td>0 days 00:00:59.513000</td>\n",
              "    </tr>\n",
              "    <tr>\n",
              "      <th>160315</th>\n",
              "      <td>BCL_TaskCreation</td>\n",
              "      <td>289702943</td>\n",
              "      <td>2020-05-02 07:53:00.577</td>\n",
              "      <td>2020-05-02</td>\n",
              "      <td>5</td>\n",
              "      <td>0 days 00:01:00.487000</td>\n",
              "    </tr>\n",
              "    <tr>\n",
              "      <th>160318</th>\n",
              "      <td>BCL_TaskCreation</td>\n",
              "      <td>289702943</td>\n",
              "      <td>2020-05-02 07:54:00.120</td>\n",
              "      <td>2020-05-02</td>\n",
              "      <td>5</td>\n",
              "      <td>0 days 00:00:59.543000</td>\n",
              "    </tr>\n",
              "    <tr>\n",
              "      <th>160319</th>\n",
              "      <td>BCL_TaskCreation</td>\n",
              "      <td>289702943</td>\n",
              "      <td>2020-05-02 07:55:00.620</td>\n",
              "      <td>2020-05-02</td>\n",
              "      <td>5</td>\n",
              "      <td>0 days 00:01:00.500000</td>\n",
              "    </tr>\n",
              "    <tr>\n",
              "      <th>160365</th>\n",
              "      <td>BCL_TaskCreation</td>\n",
              "      <td>289702943</td>\n",
              "      <td>2020-05-02 07:56:00.117</td>\n",
              "      <td>2020-05-02</td>\n",
              "      <td>5</td>\n",
              "      <td>0 days 00:00:59.497000</td>\n",
              "    </tr>\n",
              "    <tr>\n",
              "      <th>160366</th>\n",
              "      <td>BCL_TaskCreation</td>\n",
              "      <td>289702943</td>\n",
              "      <td>2020-05-02 07:57:00.537</td>\n",
              "      <td>2020-05-02</td>\n",
              "      <td>5</td>\n",
              "      <td>0 days 00:01:00.420000</td>\n",
              "    </tr>\n",
              "    <tr>\n",
              "      <th>160369</th>\n",
              "      <td>BCL_TaskCreation</td>\n",
              "      <td>289702943</td>\n",
              "      <td>2020-05-02 07:58:00.083</td>\n",
              "      <td>2020-05-02</td>\n",
              "      <td>5</td>\n",
              "      <td>0 days 00:00:59.546000</td>\n",
              "    </tr>\n",
              "    <tr>\n",
              "      <th>160373</th>\n",
              "      <td>BCL_TaskCreation</td>\n",
              "      <td>289702943</td>\n",
              "      <td>2020-05-02 07:59:00.543</td>\n",
              "      <td>2020-05-02</td>\n",
              "      <td>5</td>\n",
              "      <td>0 days 00:01:00.460000</td>\n",
              "    </tr>\n",
              "    <tr>\n",
              "      <th>160058</th>\n",
              "      <td>BCL_TaskCreation</td>\n",
              "      <td>289702943</td>\n",
              "      <td>2020-05-02 08:00:00.120</td>\n",
              "      <td>2020-05-02</td>\n",
              "      <td>5</td>\n",
              "      <td>0 days 00:00:59.577000</td>\n",
              "    </tr>\n",
              "  </tbody>\n",
              "</table>\n",
              "</div>"
            ],
            "text/plain": [
              "              dataStream   rowCount  ... weekDay               timeDiff\n",
              "160694  BCL_TaskCreation  289702943  ...       5 0 days 00:01:00.497000\n",
              "159816  BCL_TaskCreation  289702943  ...       5 0 days 00:00:59.513000\n",
              "160315  BCL_TaskCreation  289702943  ...       5 0 days 00:01:00.487000\n",
              "160318  BCL_TaskCreation  289702943  ...       5 0 days 00:00:59.543000\n",
              "160319  BCL_TaskCreation  289702943  ...       5 0 days 00:01:00.500000\n",
              "160365  BCL_TaskCreation  289702943  ...       5 0 days 00:00:59.497000\n",
              "160366  BCL_TaskCreation  289702943  ...       5 0 days 00:01:00.420000\n",
              "160369  BCL_TaskCreation  289702943  ...       5 0 days 00:00:59.546000\n",
              "160373  BCL_TaskCreation  289702943  ...       5 0 days 00:01:00.460000\n",
              "160058  BCL_TaskCreation  289702943  ...       5 0 days 00:00:59.577000\n",
              "\n",
              "[10 rows x 6 columns]"
            ]
          },
          "metadata": {},
          "execution_count": 220
        }
      ]
    },
    {
      "cell_type": "code",
      "metadata": {
        "id": "7clbuc2OXVYT"
      },
      "source": [
        "filter = (df['rowCount']>306500000) & (df['rowCount']<308000000)"
      ],
      "execution_count": 221,
      "outputs": []
    },
    {
      "cell_type": "code",
      "metadata": {
        "id": "E-FnsfApZta4"
      },
      "source": [
        "df_cut = df[filter]"
      ],
      "execution_count": 222,
      "outputs": []
    },
    {
      "cell_type": "code",
      "metadata": {
        "colab": {
          "base_uri": "https://localhost:8080/",
          "height": 206
        },
        "id": "gNCiswvKZyvP",
        "outputId": "92151570-71a7-4b09-ce03-087bd721a787"
      },
      "source": [
        "df_cut.head()"
      ],
      "execution_count": 223,
      "outputs": [
        {
          "output_type": "execute_result",
          "data": {
            "text/html": [
              "<div>\n",
              "<style scoped>\n",
              "    .dataframe tbody tr th:only-of-type {\n",
              "        vertical-align: middle;\n",
              "    }\n",
              "\n",
              "    .dataframe tbody tr th {\n",
              "        vertical-align: top;\n",
              "    }\n",
              "\n",
              "    .dataframe thead th {\n",
              "        text-align: right;\n",
              "    }\n",
              "</style>\n",
              "<table border=\"1\" class=\"dataframe\">\n",
              "  <thead>\n",
              "    <tr style=\"text-align: right;\">\n",
              "      <th></th>\n",
              "      <th>dataStream</th>\n",
              "      <th>rowCount</th>\n",
              "      <th>probingTimestamp</th>\n",
              "      <th>date</th>\n",
              "      <th>weekDay</th>\n",
              "      <th>timeDiff</th>\n",
              "    </tr>\n",
              "  </thead>\n",
              "  <tbody>\n",
              "    <tr>\n",
              "      <th>80511</th>\n",
              "      <td>BCL_TaskCreation</td>\n",
              "      <td>307921446</td>\n",
              "      <td>2020-03-06 14:38:00.850</td>\n",
              "      <td>2020-03-06</td>\n",
              "      <td>4</td>\n",
              "      <td>0 days 00:01:00.483000</td>\n",
              "    </tr>\n",
              "    <tr>\n",
              "      <th>80512</th>\n",
              "      <td>BCL_TaskCreation</td>\n",
              "      <td>307811446</td>\n",
              "      <td>2020-03-06 14:39:00.383</td>\n",
              "      <td>2020-03-06</td>\n",
              "      <td>4</td>\n",
              "      <td>0 days 00:00:59.533000</td>\n",
              "    </tr>\n",
              "    <tr>\n",
              "      <th>80513</th>\n",
              "      <td>BCL_TaskCreation</td>\n",
              "      <td>307691446</td>\n",
              "      <td>2020-03-06 14:40:00.897</td>\n",
              "      <td>2020-03-06</td>\n",
              "      <td>4</td>\n",
              "      <td>0 days 00:01:00.514000</td>\n",
              "    </tr>\n",
              "    <tr>\n",
              "      <th>81153</th>\n",
              "      <td>BCL_TaskCreation</td>\n",
              "      <td>307581446</td>\n",
              "      <td>2020-03-06 14:41:00.337</td>\n",
              "      <td>2020-03-06</td>\n",
              "      <td>4</td>\n",
              "      <td>0 days 00:00:59.440000</td>\n",
              "    </tr>\n",
              "    <tr>\n",
              "      <th>81154</th>\n",
              "      <td>BCL_TaskCreation</td>\n",
              "      <td>307471446</td>\n",
              "      <td>2020-03-06 14:42:00.870</td>\n",
              "      <td>2020-03-06</td>\n",
              "      <td>4</td>\n",
              "      <td>0 days 00:01:00.533000</td>\n",
              "    </tr>\n",
              "  </tbody>\n",
              "</table>\n",
              "</div>"
            ],
            "text/plain": [
              "             dataStream   rowCount  ... weekDay               timeDiff\n",
              "80511  BCL_TaskCreation  307921446  ...       4 0 days 00:01:00.483000\n",
              "80512  BCL_TaskCreation  307811446  ...       4 0 days 00:00:59.533000\n",
              "80513  BCL_TaskCreation  307691446  ...       4 0 days 00:01:00.514000\n",
              "81153  BCL_TaskCreation  307581446  ...       4 0 days 00:00:59.440000\n",
              "81154  BCL_TaskCreation  307471446  ...       4 0 days 00:01:00.533000\n",
              "\n",
              "[5 rows x 6 columns]"
            ]
          },
          "metadata": {},
          "execution_count": 223
        }
      ]
    },
    {
      "cell_type": "code",
      "metadata": {
        "colab": {
          "base_uri": "https://localhost:8080/",
          "height": 276
        },
        "id": "ehvZIsxpZ1xD",
        "outputId": "e723bc89-bf8c-4110-db43-eb3a13c8e223"
      },
      "source": [
        "plt.scatter(df_cut['probingTimestamp'], df_cut['rowCount'], s=1)\n",
        "plt.show()"
      ],
      "execution_count": 224,
      "outputs": [
        {
          "output_type": "display_data",
          "data": {
            "image/png": "[encoded data removed]",
            "text/plain": [
              "<Figure size 432x288 with 1 Axes>"
            ]
          },
          "metadata": {
            "needs_background": "light"
          }
        }
      ]
    },
    {
      "cell_type": "code",
      "metadata": {
        "colab": {
          "base_uri": "https://localhost:8080/"
        },
        "id": "TgcOf5XyaKY_",
        "outputId": "f6017b7b-7d49-4e0e-eacc-c5b763b86dd5"
      },
      "source": [
        "df_cut.probingTimestamp.max()"
      ],
      "execution_count": 225,
      "outputs": [
        {
          "output_type": "execute_result",
          "data": {
            "text/plain": [
              "Timestamp('2020-03-09 09:04:00.777000')"
            ]
          },
          "metadata": {},
          "execution_count": 225
        }
      ]
    },
    {
      "cell_type": "code",
      "metadata": {
        "colab": {
          "base_uri": "https://localhost:8080/"
        },
        "id": "EH27u6b0a3pJ",
        "outputId": "2389e5e8-0b68-4dce-fa8d-91dab6fb17aa"
      },
      "source": [
        "df_cut.probingTimestamp.min()"
      ],
      "execution_count": 226,
      "outputs": [
        {
          "output_type": "execute_result",
          "data": {
            "text/plain": [
              "Timestamp('2020-03-06 14:38:00.850000')"
            ]
          },
          "metadata": {},
          "execution_count": 226
        }
      ]
    },
    {
      "cell_type": "code",
      "metadata": {
        "id": "dtvgckt5a8Ds"
      },
      "source": [
        "filter2 = (df['timeDiff'] >= '0 days 00:00:55.000000') & (df['timeDiff'] <= '0 days 00:01:05.000000')"
      ],
      "execution_count": 227,
      "outputs": []
    },
    {
      "cell_type": "code",
      "metadata": {
        "colab": {
          "base_uri": "https://localhost:8080/",
          "height": 424
        },
        "id": "gmXfxFRiS19A",
        "outputId": "1b3f2f0c-3ef8-415f-e64d-2ad5879b67a1"
      },
      "source": [
        "df[filter2]"
      ],
      "execution_count": 228,
      "outputs": [
        {
          "output_type": "execute_result",
          "data": {
            "text/html": [
              "<div>\n",
              "<style scoped>\n",
              "    .dataframe tbody tr th:only-of-type {\n",
              "        vertical-align: middle;\n",
              "    }\n",
              "\n",
              "    .dataframe tbody tr th {\n",
              "        vertical-align: top;\n",
              "    }\n",
              "\n",
              "    .dataframe thead th {\n",
              "        text-align: right;\n",
              "    }\n",
              "</style>\n",
              "<table border=\"1\" class=\"dataframe\">\n",
              "  <thead>\n",
              "    <tr style=\"text-align: right;\">\n",
              "      <th></th>\n",
              "      <th>dataStream</th>\n",
              "      <th>rowCount</th>\n",
              "      <th>probingTimestamp</th>\n",
              "      <th>date</th>\n",
              "      <th>weekDay</th>\n",
              "      <th>timeDiff</th>\n",
              "    </tr>\n",
              "  </thead>\n",
              "  <tbody>\n",
              "    <tr>\n",
              "      <th>3512</th>\n",
              "      <td>BCL_TaskCreation</td>\n",
              "      <td>314015548</td>\n",
              "      <td>2020-01-10 10:18:00.977</td>\n",
              "      <td>2020-01-10</td>\n",
              "      <td>4</td>\n",
              "      <td>0 days 00:01:00.467000</td>\n",
              "    </tr>\n",
              "    <tr>\n",
              "      <th>3513</th>\n",
              "      <td>BCL_TaskCreation</td>\n",
              "      <td>314015548</td>\n",
              "      <td>2020-01-10 10:19:00.610</td>\n",
              "      <td>2020-01-10</td>\n",
              "      <td>4</td>\n",
              "      <td>0 days 00:00:59.633000</td>\n",
              "    </tr>\n",
              "    <tr>\n",
              "      <th>3514</th>\n",
              "      <td>BCL_TaskCreation</td>\n",
              "      <td>314015548</td>\n",
              "      <td>2020-01-10 10:20:00.970</td>\n",
              "      <td>2020-01-10</td>\n",
              "      <td>4</td>\n",
              "      <td>0 days 00:01:00.360000</td>\n",
              "    </tr>\n",
              "    <tr>\n",
              "      <th>3515</th>\n",
              "      <td>BCL_TaskCreation</td>\n",
              "      <td>314015548</td>\n",
              "      <td>2020-01-10 10:21:00.440</td>\n",
              "      <td>2020-01-10</td>\n",
              "      <td>4</td>\n",
              "      <td>0 days 00:00:59.470000</td>\n",
              "    </tr>\n",
              "    <tr>\n",
              "      <th>3516</th>\n",
              "      <td>BCL_TaskCreation</td>\n",
              "      <td>314015548</td>\n",
              "      <td>2020-01-10 10:22:00.933</td>\n",
              "      <td>2020-01-10</td>\n",
              "      <td>4</td>\n",
              "      <td>0 days 00:01:00.493000</td>\n",
              "    </tr>\n",
              "    <tr>\n",
              "      <th>...</th>\n",
              "      <td>...</td>\n",
              "      <td>...</td>\n",
              "      <td>...</td>\n",
              "      <td>...</td>\n",
              "      <td>...</td>\n",
              "      <td>...</td>\n",
              "    </tr>\n",
              "    <tr>\n",
              "      <th>160365</th>\n",
              "      <td>BCL_TaskCreation</td>\n",
              "      <td>289702943</td>\n",
              "      <td>2020-05-02 07:56:00.117</td>\n",
              "      <td>2020-05-02</td>\n",
              "      <td>5</td>\n",
              "      <td>0 days 00:00:59.497000</td>\n",
              "    </tr>\n",
              "    <tr>\n",
              "      <th>160366</th>\n",
              "      <td>BCL_TaskCreation</td>\n",
              "      <td>289702943</td>\n",
              "      <td>2020-05-02 07:57:00.537</td>\n",
              "      <td>2020-05-02</td>\n",
              "      <td>5</td>\n",
              "      <td>0 days 00:01:00.420000</td>\n",
              "    </tr>\n",
              "    <tr>\n",
              "      <th>160369</th>\n",
              "      <td>BCL_TaskCreation</td>\n",
              "      <td>289702943</td>\n",
              "      <td>2020-05-02 07:58:00.083</td>\n",
              "      <td>2020-05-02</td>\n",
              "      <td>5</td>\n",
              "      <td>0 days 00:00:59.546000</td>\n",
              "    </tr>\n",
              "    <tr>\n",
              "      <th>160373</th>\n",
              "      <td>BCL_TaskCreation</td>\n",
              "      <td>289702943</td>\n",
              "      <td>2020-05-02 07:59:00.543</td>\n",
              "      <td>2020-05-02</td>\n",
              "      <td>5</td>\n",
              "      <td>0 days 00:01:00.460000</td>\n",
              "    </tr>\n",
              "    <tr>\n",
              "      <th>160058</th>\n",
              "      <td>BCL_TaskCreation</td>\n",
              "      <td>289702943</td>\n",
              "      <td>2020-05-02 08:00:00.120</td>\n",
              "      <td>2020-05-02</td>\n",
              "      <td>5</td>\n",
              "      <td>0 days 00:00:59.577000</td>\n",
              "    </tr>\n",
              "  </tbody>\n",
              "</table>\n",
              "<p>160179 rows × 6 columns</p>\n",
              "</div>"
            ],
            "text/plain": [
              "              dataStream   rowCount  ... weekDay               timeDiff\n",
              "3512    BCL_TaskCreation  314015548  ...       4 0 days 00:01:00.467000\n",
              "3513    BCL_TaskCreation  314015548  ...       4 0 days 00:00:59.633000\n",
              "3514    BCL_TaskCreation  314015548  ...       4 0 days 00:01:00.360000\n",
              "3515    BCL_TaskCreation  314015548  ...       4 0 days 00:00:59.470000\n",
              "3516    BCL_TaskCreation  314015548  ...       4 0 days 00:01:00.493000\n",
              "...                  ...        ...  ...     ...                    ...\n",
              "160365  BCL_TaskCreation  289702943  ...       5 0 days 00:00:59.497000\n",
              "160366  BCL_TaskCreation  289702943  ...       5 0 days 00:01:00.420000\n",
              "160369  BCL_TaskCreation  289702943  ...       5 0 days 00:00:59.546000\n",
              "160373  BCL_TaskCreation  289702943  ...       5 0 days 00:01:00.460000\n",
              "160058  BCL_TaskCreation  289702943  ...       5 0 days 00:00:59.577000\n",
              "\n",
              "[160179 rows x 6 columns]"
            ]
          },
          "metadata": {},
          "execution_count": 228
        }
      ]
    },
    {
      "cell_type": "code",
      "metadata": {
        "id": "1dBWljfLTC-4"
      },
      "source": [
        "filter3 = (df['timeDiff'] > '0 days 00:01:05.000000')"
      ],
      "execution_count": 229,
      "outputs": []
    },
    {
      "cell_type": "code",
      "metadata": {
        "colab": {
          "base_uri": "https://localhost:8080/",
          "height": 424
        },
        "id": "-QDyE8P0UaTk",
        "outputId": "820ef45b-d29d-4528-eb48-4786ac1be752"
      },
      "source": [
        "df[filter3]"
      ],
      "execution_count": 230,
      "outputs": [
        {
          "output_type": "execute_result",
          "data": {
            "text/html": [
              "<div>\n",
              "<style scoped>\n",
              "    .dataframe tbody tr th:only-of-type {\n",
              "        vertical-align: middle;\n",
              "    }\n",
              "\n",
              "    .dataframe tbody tr th {\n",
              "        vertical-align: top;\n",
              "    }\n",
              "\n",
              "    .dataframe thead th {\n",
              "        text-align: right;\n",
              "    }\n",
              "</style>\n",
              "<table border=\"1\" class=\"dataframe\">\n",
              "  <thead>\n",
              "    <tr style=\"text-align: right;\">\n",
              "      <th></th>\n",
              "      <th>dataStream</th>\n",
              "      <th>rowCount</th>\n",
              "      <th>probingTimestamp</th>\n",
              "      <th>date</th>\n",
              "      <th>weekDay</th>\n",
              "      <th>timeDiff</th>\n",
              "    </tr>\n",
              "  </thead>\n",
              "  <tbody>\n",
              "    <tr>\n",
              "      <th>3505</th>\n",
              "      <td>BCL_TaskCreation</td>\n",
              "      <td>314015548</td>\n",
              "      <td>2020-01-10 10:16:29.063</td>\n",
              "      <td>2020-01-10</td>\n",
              "      <td>4</td>\n",
              "      <td>0 days 00:12:10.226000</td>\n",
              "    </tr>\n",
              "    <tr>\n",
              "      <th>431</th>\n",
              "      <td>BCL_TaskCreation</td>\n",
              "      <td>314557745</td>\n",
              "      <td>2020-01-11 03:30:07.070</td>\n",
              "      <td>2020-01-11</td>\n",
              "      <td>5</td>\n",
              "      <td>0 days 00:01:06.210000</td>\n",
              "    </tr>\n",
              "    <tr>\n",
              "      <th>432</th>\n",
              "      <td>BCL_TaskCreation</td>\n",
              "      <td>314557745</td>\n",
              "      <td>2020-01-11 03:32:02.533</td>\n",
              "      <td>2020-01-11</td>\n",
              "      <td>5</td>\n",
              "      <td>0 days 00:01:55.463000</td>\n",
              "    </tr>\n",
              "    <tr>\n",
              "      <th>3091</th>\n",
              "      <td>BCL_TaskCreation</td>\n",
              "      <td>315279286</td>\n",
              "      <td>2020-01-13 03:24:21.240</td>\n",
              "      <td>2020-01-13</td>\n",
              "      <td>0</td>\n",
              "      <td>0 days 00:01:20.733000</td>\n",
              "    </tr>\n",
              "    <tr>\n",
              "      <th>5111</th>\n",
              "      <td>BCL_TaskCreation</td>\n",
              "      <td>316510387</td>\n",
              "      <td>2020-01-14 03:41:09.813</td>\n",
              "      <td>2020-01-14</td>\n",
              "      <td>1</td>\n",
              "      <td>0 days 00:01:08.986000</td>\n",
              "    </tr>\n",
              "    <tr>\n",
              "      <th>...</th>\n",
              "      <td>...</td>\n",
              "      <td>...</td>\n",
              "      <td>...</td>\n",
              "      <td>...</td>\n",
              "      <td>...</td>\n",
              "      <td>...</td>\n",
              "    </tr>\n",
              "    <tr>\n",
              "      <th>158636</th>\n",
              "      <td>BCL_TaskCreation</td>\n",
              "      <td>289699068</td>\n",
              "      <td>2020-05-01 00:02:00.953</td>\n",
              "      <td>2020-05-01</td>\n",
              "      <td>4</td>\n",
              "      <td>0 days 00:02:00.360000</td>\n",
              "    </tr>\n",
              "    <tr>\n",
              "      <th>159217</th>\n",
              "      <td>BCL_TaskCreation</td>\n",
              "      <td>289699068</td>\n",
              "      <td>2020-05-01 00:04:00.810</td>\n",
              "      <td>2020-05-01</td>\n",
              "      <td>4</td>\n",
              "      <td>0 days 00:01:59.857000</td>\n",
              "    </tr>\n",
              "    <tr>\n",
              "      <th>158658</th>\n",
              "      <td>BCL_TaskCreation</td>\n",
              "      <td>289699633</td>\n",
              "      <td>2020-05-01 04:18:21.130</td>\n",
              "      <td>2020-05-01</td>\n",
              "      <td>4</td>\n",
              "      <td>0 days 00:01:20.650000</td>\n",
              "    </tr>\n",
              "    <tr>\n",
              "      <th>159527</th>\n",
              "      <td>BCL_TaskCreation</td>\n",
              "      <td>289699834</td>\n",
              "      <td>2020-05-01 08:03:00.837</td>\n",
              "      <td>2020-05-01</td>\n",
              "      <td>4</td>\n",
              "      <td>0 days 00:02:00.127000</td>\n",
              "    </tr>\n",
              "    <tr>\n",
              "      <th>160164</th>\n",
              "      <td>BCL_TaskCreation</td>\n",
              "      <td>289702632</td>\n",
              "      <td>2020-05-02 00:03:00.253</td>\n",
              "      <td>2020-05-02</td>\n",
              "      <td>5</td>\n",
              "      <td>0 days 00:02:00.106000</td>\n",
              "    </tr>\n",
              "  </tbody>\n",
              "</table>\n",
              "<p>261 rows × 6 columns</p>\n",
              "</div>"
            ],
            "text/plain": [
              "              dataStream   rowCount  ... weekDay               timeDiff\n",
              "3505    BCL_TaskCreation  314015548  ...       4 0 days 00:12:10.226000\n",
              "431     BCL_TaskCreation  314557745  ...       5 0 days 00:01:06.210000\n",
              "432     BCL_TaskCreation  314557745  ...       5 0 days 00:01:55.463000\n",
              "3091    BCL_TaskCreation  315279286  ...       0 0 days 00:01:20.733000\n",
              "5111    BCL_TaskCreation  316510387  ...       1 0 days 00:01:08.986000\n",
              "...                  ...        ...  ...     ...                    ...\n",
              "158636  BCL_TaskCreation  289699068  ...       4 0 days 00:02:00.360000\n",
              "159217  BCL_TaskCreation  289699068  ...       4 0 days 00:01:59.857000\n",
              "158658  BCL_TaskCreation  289699633  ...       4 0 days 00:01:20.650000\n",
              "159527  BCL_TaskCreation  289699834  ...       4 0 days 00:02:00.127000\n",
              "160164  BCL_TaskCreation  289702632  ...       5 0 days 00:02:00.106000\n",
              "\n",
              "[261 rows x 6 columns]"
            ]
          },
          "metadata": {},
          "execution_count": 230
        }
      ]
    },
    {
      "cell_type": "code",
      "metadata": {
        "colab": {
          "base_uri": "https://localhost:8080/"
        },
        "id": "fmDzhxfbVBXM",
        "outputId": "76534e39-525a-4f1f-a505-c0af8d65d4e1"
      },
      "source": [
        "df[filter3].timeDiff.max()"
      ],
      "execution_count": 231,
      "outputs": [
        {
          "output_type": "execute_result",
          "data": {
            "text/plain": [
              "Timedelta('0 days 23:38:42.740000')"
            ]
          },
          "metadata": {},
          "execution_count": 231
        }
      ]
    },
    {
      "cell_type": "code",
      "metadata": {
        "colab": {
          "base_uri": "https://localhost:8080/"
        },
        "id": "Kstk3tddXLub",
        "outputId": "822724a1-8efb-4c97-a52c-839d01fae25a"
      },
      "source": [
        "df[filter3].timeDiff.min()"
      ],
      "execution_count": 232,
      "outputs": [
        {
          "output_type": "execute_result",
          "data": {
            "text/plain": [
              "Timedelta('0 days 00:01:05.047000')"
            ]
          },
          "metadata": {},
          "execution_count": 232
        }
      ]
    },
    {
      "cell_type": "code",
      "metadata": {
        "id": "c4AsLX1PfVL6"
      },
      "source": [
        "filter4 = (df['timeDiff'] < '0 days 00:00:55.000000')"
      ],
      "execution_count": 233,
      "outputs": []
    },
    {
      "cell_type": "code",
      "metadata": {
        "colab": {
          "base_uri": "https://localhost:8080/",
          "height": 424
        },
        "id": "QdA8bw8TeTOa",
        "outputId": "d312b7f8-663d-4d47-ba5a-2447a9e01fd0"
      },
      "source": [
        "df[filter4]"
      ],
      "execution_count": 234,
      "outputs": [
        {
          "output_type": "execute_result",
          "data": {
            "text/html": [
              "<div>\n",
              "<style scoped>\n",
              "    .dataframe tbody tr th:only-of-type {\n",
              "        vertical-align: middle;\n",
              "    }\n",
              "\n",
              "    .dataframe tbody tr th {\n",
              "        vertical-align: top;\n",
              "    }\n",
              "\n",
              "    .dataframe thead th {\n",
              "        text-align: right;\n",
              "    }\n",
              "</style>\n",
              "<table border=\"1\" class=\"dataframe\">\n",
              "  <thead>\n",
              "    <tr style=\"text-align: right;\">\n",
              "      <th></th>\n",
              "      <th>dataStream</th>\n",
              "      <th>rowCount</th>\n",
              "      <th>probingTimestamp</th>\n",
              "      <th>date</th>\n",
              "      <th>weekDay</th>\n",
              "      <th>timeDiff</th>\n",
              "    </tr>\n",
              "  </thead>\n",
              "  <tbody>\n",
              "    <tr>\n",
              "      <th>3507</th>\n",
              "      <td>BCL_TaskCreation</td>\n",
              "      <td>314015548</td>\n",
              "      <td>2020-01-10 10:17:00.510</td>\n",
              "      <td>2020-01-10</td>\n",
              "      <td>4</td>\n",
              "      <td>0 days 00:00:31.447000</td>\n",
              "    </tr>\n",
              "    <tr>\n",
              "      <th>3090</th>\n",
              "      <td>BCL_TaskCreation</td>\n",
              "      <td>315279286</td>\n",
              "      <td>2020-01-13 03:25:00.563</td>\n",
              "      <td>2020-01-13</td>\n",
              "      <td>0</td>\n",
              "      <td>0 days 00:00:39.323000</td>\n",
              "    </tr>\n",
              "    <tr>\n",
              "      <th>5680</th>\n",
              "      <td>BCL_TaskCreation</td>\n",
              "      <td>316510387</td>\n",
              "      <td>2020-01-14 03:42:00.310</td>\n",
              "      <td>2020-01-14</td>\n",
              "      <td>1</td>\n",
              "      <td>0 days 00:00:50.497000</td>\n",
              "    </tr>\n",
              "    <tr>\n",
              "      <th>8176</th>\n",
              "      <td>BCL_TaskCreation</td>\n",
              "      <td>317467818</td>\n",
              "      <td>2020-01-16 04:17:00.473</td>\n",
              "      <td>2020-01-16</td>\n",
              "      <td>3</td>\n",
              "      <td>0 days 00:00:46.440000</td>\n",
              "    </tr>\n",
              "    <tr>\n",
              "      <th>8386</th>\n",
              "      <td>BCL_TaskCreation</td>\n",
              "      <td>317467818</td>\n",
              "      <td>2020-01-16 04:52:00.127</td>\n",
              "      <td>2020-01-16</td>\n",
              "      <td>3</td>\n",
              "      <td>0 days 00:00:39.317000</td>\n",
              "    </tr>\n",
              "    <tr>\n",
              "      <th>...</th>\n",
              "      <td>...</td>\n",
              "      <td>...</td>\n",
              "      <td>...</td>\n",
              "      <td>...</td>\n",
              "      <td>...</td>\n",
              "      <td>...</td>\n",
              "    </tr>\n",
              "    <tr>\n",
              "      <th>149686</th>\n",
              "      <td>BCL_TaskCreation</td>\n",
              "      <td>289654475</td>\n",
              "      <td>2020-04-24 11:49:00.497</td>\n",
              "      <td>2020-04-24</td>\n",
              "      <td>4</td>\n",
              "      <td>0 days 00:00:46.580000</td>\n",
              "    </tr>\n",
              "    <tr>\n",
              "      <th>150343</th>\n",
              "      <td>BCL_TaskCreation</td>\n",
              "      <td>289656817</td>\n",
              "      <td>2020-04-25 00:59:00.597</td>\n",
              "      <td>2020-04-25</td>\n",
              "      <td>5</td>\n",
              "      <td>0 days 00:00:43.340000</td>\n",
              "    </tr>\n",
              "    <tr>\n",
              "      <th>153280</th>\n",
              "      <td>BCL_TaskCreation</td>\n",
              "      <td>289673615</td>\n",
              "      <td>2020-04-27 00:29:00.490</td>\n",
              "      <td>2020-04-27</td>\n",
              "      <td>0</td>\n",
              "      <td>0 days 00:00:20.437000</td>\n",
              "    </tr>\n",
              "    <tr>\n",
              "      <th>154579</th>\n",
              "      <td>BCL_TaskCreation</td>\n",
              "      <td>289680854</td>\n",
              "      <td>2020-04-27 22:52:00.250</td>\n",
              "      <td>2020-04-27</td>\n",
              "      <td>0</td>\n",
              "      <td>0 days 00:00:38.877000</td>\n",
              "    </tr>\n",
              "    <tr>\n",
              "      <th>159349</th>\n",
              "      <td>BCL_TaskCreation</td>\n",
              "      <td>289699633</td>\n",
              "      <td>2020-05-01 04:19:00.343</td>\n",
              "      <td>2020-05-01</td>\n",
              "      <td>4</td>\n",
              "      <td>0 days 00:00:39.213000</td>\n",
              "    </tr>\n",
              "  </tbody>\n",
              "</table>\n",
              "<p>72 rows × 6 columns</p>\n",
              "</div>"
            ],
            "text/plain": [
              "              dataStream   rowCount  ... weekDay               timeDiff\n",
              "3507    BCL_TaskCreation  314015548  ...       4 0 days 00:00:31.447000\n",
              "3090    BCL_TaskCreation  315279286  ...       0 0 days 00:00:39.323000\n",
              "5680    BCL_TaskCreation  316510387  ...       1 0 days 00:00:50.497000\n",
              "8176    BCL_TaskCreation  317467818  ...       3 0 days 00:00:46.440000\n",
              "8386    BCL_TaskCreation  317467818  ...       3 0 days 00:00:39.317000\n",
              "...                  ...        ...  ...     ...                    ...\n",
              "149686  BCL_TaskCreation  289654475  ...       4 0 days 00:00:46.580000\n",
              "150343  BCL_TaskCreation  289656817  ...       5 0 days 00:00:43.340000\n",
              "153280  BCL_TaskCreation  289673615  ...       0 0 days 00:00:20.437000\n",
              "154579  BCL_TaskCreation  289680854  ...       0 0 days 00:00:38.877000\n",
              "159349  BCL_TaskCreation  289699633  ...       4 0 days 00:00:39.213000\n",
              "\n",
              "[72 rows x 6 columns]"
            ]
          },
          "metadata": {},
          "execution_count": 234
        }
      ]
    },
    {
      "cell_type": "code",
      "metadata": {
        "colab": {
          "base_uri": "https://localhost:8080/"
        },
        "id": "JPmb0_PkeVN-",
        "outputId": "218c7027-e939-4c50-bb5d-7c1213c975ce"
      },
      "source": [
        "df[filter4].timeDiff.min()"
      ],
      "execution_count": 235,
      "outputs": [
        {
          "output_type": "execute_result",
          "data": {
            "text/plain": [
              "Timedelta('0 days 00:00:17.350000')"
            ]
          },
          "metadata": {},
          "execution_count": 235
        }
      ]
    },
    {
      "cell_type": "code",
      "metadata": {
        "colab": {
          "base_uri": "https://localhost:8080/"
        },
        "id": "utDrn4CCesjM",
        "outputId": "8487863a-1bab-4b7b-f89c-6d81cd0f639c"
      },
      "source": [
        "df[filter4].timeDiff.max()"
      ],
      "execution_count": 236,
      "outputs": [
        {
          "output_type": "execute_result",
          "data": {
            "text/plain": [
              "Timedelta('0 days 00:00:54.953000')"
            ]
          },
          "metadata": {},
          "execution_count": 236
        }
      ]
    },
    {
      "cell_type": "code",
      "metadata": {
        "id": "C7MOUGXv3Dcx"
      },
      "source": [
        ""
      ],
      "execution_count": null,
      "outputs": []
    }
  ]
}