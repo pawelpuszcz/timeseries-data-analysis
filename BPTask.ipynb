{
  "nbformat": 4,
  "nbformat_minor": 0,
  "metadata": {
    "colab": {
      "name": "BPTask.ipynb",
      "provenance": [],
      "collapsed_sections": [],
      "authorship_tag": "ABX9TyNtvsyd55/xmf6iPIqueXhz",
      "include_colab_link": true
    },
    "kernelspec": {
      "name": "python3",
      "display_name": "Python 3"
    },
    "language_info": {
      "name": "python"
    }
  },
  "cells": [
    {
      "cell_type": "markdown",
      "metadata": {
        "id": "view-in-github",
        "colab_type": "text"
      },
      "source": [
        "<a href=\"https://colab.research.google.com/github/pawelpuszcz/timeseries-data-analysis/blob/main/BPTask.ipynb\" target=\"_parent\"><img src=\"https://colab.research.google.com/assets/colab-badge.svg\" alt=\"Open In Colab\"/></a>"
      ]
    },
    {
      "cell_type": "code",
      "metadata": {
        "id": "PzERzxndalty"
      },
      "source": [
        ""
      ],
      "execution_count": null,
      "outputs": []
    },
    {
      "cell_type": "code",
      "metadata": {
        "id": "qVtYhoGkbHDK"
      },
      "source": [
        "import pandas as pd\n",
        "import numpy as np\n",
        "import matplotlib.pyplot as plt\n",
        "import datetime as dt\n",
        "\n",
        "%matplotlib inline"
      ],
      "execution_count": 1,
      "outputs": []
    },
    {
      "cell_type": "code",
      "metadata": {
        "id": "s24l1-G-bJ4T"
      },
      "source": [
        "df = pd.read_csv('https://bitpeak.pl/datasets/BCL_TaskCreation.csv', sep=';')"
      ],
      "execution_count": 2,
      "outputs": []
    },
    {
      "cell_type": "code",
      "metadata": {
        "colab": {
          "base_uri": "https://localhost:8080/",
          "height": 206
        },
        "id": "E_gSxtdtbSET",
        "outputId": "deae7499-5c72-4f58-96e0-12dd90da974b"
      },
      "source": [
        "df.head()"
      ],
      "execution_count": 3,
      "outputs": [
        {
          "output_type": "execute_result",
          "data": {
            "text/html": [
              "<div>\n",
              "<style scoped>\n",
              "    .dataframe tbody tr th:only-of-type {\n",
              "        vertical-align: middle;\n",
              "    }\n",
              "\n",
              "    .dataframe tbody tr th {\n",
              "        vertical-align: top;\n",
              "    }\n",
              "\n",
              "    .dataframe thead th {\n",
              "        text-align: right;\n",
              "    }\n",
              "</style>\n",
              "<table border=\"1\" class=\"dataframe\">\n",
              "  <thead>\n",
              "    <tr style=\"text-align: right;\">\n",
              "      <th></th>\n",
              "      <th>dataStream</th>\n",
              "      <th>rowCount</th>\n",
              "      <th>probingTimestamp</th>\n",
              "    </tr>\n",
              "  </thead>\n",
              "  <tbody>\n",
              "    <tr>\n",
              "      <th>0</th>\n",
              "      <td>BCL_TaskCreation</td>\n",
              "      <td>315349655</td>\n",
              "      <td>2020-01-13 09:33:00.497</td>\n",
              "    </tr>\n",
              "    <tr>\n",
              "      <th>1</th>\n",
              "      <td>BCL_TaskCreation</td>\n",
              "      <td>315349655</td>\n",
              "      <td>2020-01-13 09:34:00.157</td>\n",
              "    </tr>\n",
              "    <tr>\n",
              "      <th>2</th>\n",
              "      <td>BCL_TaskCreation</td>\n",
              "      <td>314533770</td>\n",
              "      <td>2020-01-11 01:18:00.143</td>\n",
              "    </tr>\n",
              "    <tr>\n",
              "      <th>3</th>\n",
              "      <td>BCL_TaskCreation</td>\n",
              "      <td>289249872</td>\n",
              "      <td>2020-04-05 16:10:00.333</td>\n",
              "    </tr>\n",
              "    <tr>\n",
              "      <th>4</th>\n",
              "      <td>BCL_TaskCreation</td>\n",
              "      <td>289249872</td>\n",
              "      <td>2020-04-05 16:11:00.883</td>\n",
              "    </tr>\n",
              "  </tbody>\n",
              "</table>\n",
              "</div>"
            ],
            "text/plain": [
              "         dataStream   rowCount         probingTimestamp\n",
              "0  BCL_TaskCreation  315349655  2020-01-13 09:33:00.497\n",
              "1  BCL_TaskCreation  315349655  2020-01-13 09:34:00.157\n",
              "2  BCL_TaskCreation  314533770  2020-01-11 01:18:00.143\n",
              "3  BCL_TaskCreation  289249872  2020-04-05 16:10:00.333\n",
              "4  BCL_TaskCreation  289249872  2020-04-05 16:11:00.883"
            ]
          },
          "metadata": {},
          "execution_count": 3
        }
      ]
    },
    {
      "cell_type": "code",
      "metadata": {
        "colab": {
          "base_uri": "https://localhost:8080/",
          "height": 206
        },
        "id": "HJvuhm5ZbY0O",
        "outputId": "b309d025-b35b-4aae-c381-9577ea8ab743"
      },
      "source": [
        "df.tail()"
      ],
      "execution_count": 4,
      "outputs": [
        {
          "output_type": "execute_result",
          "data": {
            "text/html": [
              "<div>\n",
              "<style scoped>\n",
              "    .dataframe tbody tr th:only-of-type {\n",
              "        vertical-align: middle;\n",
              "    }\n",
              "\n",
              "    .dataframe tbody tr th {\n",
              "        vertical-align: top;\n",
              "    }\n",
              "\n",
              "    .dataframe thead th {\n",
              "        text-align: right;\n",
              "    }\n",
              "</style>\n",
              "<table border=\"1\" class=\"dataframe\">\n",
              "  <thead>\n",
              "    <tr style=\"text-align: right;\">\n",
              "      <th></th>\n",
              "      <th>dataStream</th>\n",
              "      <th>rowCount</th>\n",
              "      <th>probingTimestamp</th>\n",
              "    </tr>\n",
              "  </thead>\n",
              "  <tbody>\n",
              "    <tr>\n",
              "      <th>160730</th>\n",
              "      <td>BCL_TaskCreation</td>\n",
              "      <td>289702842</td>\n",
              "      <td>2020-05-02 04:43:00.767</td>\n",
              "    </tr>\n",
              "    <tr>\n",
              "      <th>160731</th>\n",
              "      <td>BCL_TaskCreation</td>\n",
              "      <td>289702943</td>\n",
              "      <td>2020-05-02 07:26:01.040</td>\n",
              "    </tr>\n",
              "    <tr>\n",
              "      <th>160732</th>\n",
              "      <td>BCL_TaskCreation</td>\n",
              "      <td>289702883</td>\n",
              "      <td>2020-05-02 06:10:00.157</td>\n",
              "    </tr>\n",
              "    <tr>\n",
              "      <th>160733</th>\n",
              "      <td>BCL_TaskCreation</td>\n",
              "      <td>289702842</td>\n",
              "      <td>2020-05-02 04:18:00.117</td>\n",
              "    </tr>\n",
              "    <tr>\n",
              "      <th>160734</th>\n",
              "      <td>BCL_TaskCreation</td>\n",
              "      <td>289702883</td>\n",
              "      <td>2020-05-02 06:11:00.597</td>\n",
              "    </tr>\n",
              "  </tbody>\n",
              "</table>\n",
              "</div>"
            ],
            "text/plain": [
              "              dataStream   rowCount         probingTimestamp\n",
              "160730  BCL_TaskCreation  289702842  2020-05-02 04:43:00.767\n",
              "160731  BCL_TaskCreation  289702943  2020-05-02 07:26:01.040\n",
              "160732  BCL_TaskCreation  289702883  2020-05-02 06:10:00.157\n",
              "160733  BCL_TaskCreation  289702842  2020-05-02 04:18:00.117\n",
              "160734  BCL_TaskCreation  289702883  2020-05-02 06:11:00.597"
            ]
          },
          "metadata": {},
          "execution_count": 4
        }
      ]
    },
    {
      "cell_type": "code",
      "metadata": {
        "colab": {
          "base_uri": "https://localhost:8080/"
        },
        "id": "SjcI1kXNbbFN",
        "outputId": "148ddf96-ec45-44e8-f79a-43d91e569974"
      },
      "source": [
        "df.info()"
      ],
      "execution_count": 5,
      "outputs": [
        {
          "output_type": "stream",
          "name": "stdout",
          "text": [
            "<class 'pandas.core.frame.DataFrame'>\n",
            "RangeIndex: 160735 entries, 0 to 160734\n",
            "Data columns (total 3 columns):\n",
            " #   Column            Non-Null Count   Dtype \n",
            "---  ------            --------------   ----- \n",
            " 0   dataStream        160735 non-null  object\n",
            " 1   rowCount          160735 non-null  int64 \n",
            " 2   probingTimestamp  160735 non-null  object\n",
            "dtypes: int64(1), object(2)\n",
            "memory usage: 3.7+ MB\n"
          ]
        }
      ]
    },
    {
      "cell_type": "code",
      "metadata": {
        "colab": {
          "base_uri": "https://localhost:8080/"
        },
        "id": "TcidyLXWbe4Y",
        "outputId": "570856bb-3fc5-414a-aac4-2edd6b126022"
      },
      "source": [
        "len(df.dataStream.unique())"
      ],
      "execution_count": 9,
      "outputs": [
        {
          "output_type": "execute_result",
          "data": {
            "text/plain": [
              "1"
            ]
          },
          "metadata": {},
          "execution_count": 9
        }
      ]
    },
    {
      "cell_type": "code",
      "metadata": {
        "colab": {
          "base_uri": "https://localhost:8080/"
        },
        "id": "DvVbmpqfb2uC",
        "outputId": "02a0cb3a-a6ec-4f0f-d322-23d5338fd408"
      },
      "source": [
        "len(df.rowCount.unique())"
      ],
      "execution_count": 10,
      "outputs": [
        {
          "output_type": "execute_result",
          "data": {
            "text/plain": [
              "6612"
            ]
          },
          "metadata": {},
          "execution_count": 10
        }
      ]
    },
    {
      "cell_type": "code",
      "metadata": {
        "colab": {
          "base_uri": "https://localhost:8080/"
        },
        "id": "kHQQMM-McNQ0",
        "outputId": "95adeb99-25b5-4566-a99a-44a9e179fea1"
      },
      "source": [
        "len(df.probingTimestamp.unique())"
      ],
      "execution_count": 11,
      "outputs": [
        {
          "output_type": "execute_result",
          "data": {
            "text/plain": [
              "160513"
            ]
          },
          "metadata": {},
          "execution_count": 11
        }
      ]
    },
    {
      "cell_type": "code",
      "metadata": {
        "colab": {
          "base_uri": "https://localhost:8080/"
        },
        "id": "Rys6zsPmcYaY",
        "outputId": "0df0a72f-88ef-47db-d877-e62422ffaaf3"
      },
      "source": [
        "df.rowCount.value_counts()"
      ],
      "execution_count": 14,
      "outputs": [
        {
          "output_type": "execute_result",
          "data": {
            "text/plain": [
              "318665910    3951\n",
              "317651677    2831\n",
              "285498466    1383\n",
              "325841983    1337\n",
              "289503125     521\n",
              "             ... \n",
              "291768000       1\n",
              "334691999       1\n",
              "327345820       1\n",
              "314433147       1\n",
              "334413736       1\n",
              "Name: rowCount, Length: 6612, dtype: int64"
            ]
          },
          "metadata": {},
          "execution_count": 14
        }
      ]
    },
    {
      "cell_type": "code",
      "metadata": {
        "colab": {
          "base_uri": "https://localhost:8080/"
        },
        "id": "4x-0Ed2Xcen0",
        "outputId": "b72613b2-4b56-4671-eaa7-b4f2e34994b8"
      },
      "source": [
        "df.axes"
      ],
      "execution_count": 15,
      "outputs": [
        {
          "output_type": "execute_result",
          "data": {
            "text/plain": [
              "[RangeIndex(start=0, stop=160735, step=1),\n",
              " Index(['dataStream', 'rowCount', 'probingTimestamp'], dtype='object')]"
            ]
          },
          "metadata": {},
          "execution_count": 15
        }
      ]
    },
    {
      "cell_type": "code",
      "metadata": {
        "colab": {
          "base_uri": "https://localhost:8080/"
        },
        "id": "bMrusWscdA2a",
        "outputId": "69803630-315b-4199-a0cb-9644317877d1"
      },
      "source": [
        "df.shape"
      ],
      "execution_count": 16,
      "outputs": [
        {
          "output_type": "execute_result",
          "data": {
            "text/plain": [
              "(160735, 3)"
            ]
          },
          "metadata": {},
          "execution_count": 16
        }
      ]
    },
    {
      "cell_type": "code",
      "metadata": {
        "colab": {
          "base_uri": "https://localhost:8080/"
        },
        "id": "t1_N6xGZdDhk",
        "outputId": "5ff2e9e1-d60c-4859-d556-188f5c17902d"
      },
      "source": [
        "df.count()"
      ],
      "execution_count": 17,
      "outputs": [
        {
          "output_type": "execute_result",
          "data": {
            "text/plain": [
              "dataStream          160735\n",
              "rowCount            160735\n",
              "probingTimestamp    160735\n",
              "dtype: int64"
            ]
          },
          "metadata": {},
          "execution_count": 17
        }
      ]
    },
    {
      "cell_type": "code",
      "metadata": {
        "id": "YA_4N-iUdHGi"
      },
      "source": [
        "df.sort_values(by='probingTimestamp', inplace=True)"
      ],
      "execution_count": 18,
      "outputs": []
    },
    {
      "cell_type": "code",
      "metadata": {
        "colab": {
          "base_uri": "https://localhost:8080/",
          "height": 143
        },
        "id": "BD8pnrK7ddcE",
        "outputId": "84f60286-0b71-45fb-d678-74e53e70ac18"
      },
      "source": [
        "df.head(3)"
      ],
      "execution_count": 19,
      "outputs": [
        {
          "output_type": "execute_result",
          "data": {
            "text/html": [
              "<div>\n",
              "<style scoped>\n",
              "    .dataframe tbody tr th:only-of-type {\n",
              "        vertical-align: middle;\n",
              "    }\n",
              "\n",
              "    .dataframe tbody tr th {\n",
              "        vertical-align: top;\n",
              "    }\n",
              "\n",
              "    .dataframe thead th {\n",
              "        text-align: right;\n",
              "    }\n",
              "</style>\n",
              "<table border=\"1\" class=\"dataframe\">\n",
              "  <thead>\n",
              "    <tr style=\"text-align: right;\">\n",
              "      <th></th>\n",
              "      <th>dataStream</th>\n",
              "      <th>rowCount</th>\n",
              "      <th>probingTimestamp</th>\n",
              "    </tr>\n",
              "  </thead>\n",
              "  <tbody>\n",
              "    <tr>\n",
              "      <th>3506</th>\n",
              "      <td>BCL_TaskCreation</td>\n",
              "      <td>314015548</td>\n",
              "      <td>2020-01-10 10:04:18.837</td>\n",
              "    </tr>\n",
              "    <tr>\n",
              "      <th>3505</th>\n",
              "      <td>BCL_TaskCreation</td>\n",
              "      <td>314015548</td>\n",
              "      <td>2020-01-10 10:16:29.063</td>\n",
              "    </tr>\n",
              "    <tr>\n",
              "      <th>3507</th>\n",
              "      <td>BCL_TaskCreation</td>\n",
              "      <td>314015548</td>\n",
              "      <td>2020-01-10 10:17:00.510</td>\n",
              "    </tr>\n",
              "  </tbody>\n",
              "</table>\n",
              "</div>"
            ],
            "text/plain": [
              "            dataStream   rowCount         probingTimestamp\n",
              "3506  BCL_TaskCreation  314015548  2020-01-10 10:04:18.837\n",
              "3505  BCL_TaskCreation  314015548  2020-01-10 10:16:29.063\n",
              "3507  BCL_TaskCreation  314015548  2020-01-10 10:17:00.510"
            ]
          },
          "metadata": {},
          "execution_count": 19
        }
      ]
    },
    {
      "cell_type": "code",
      "metadata": {
        "colab": {
          "base_uri": "https://localhost:8080/",
          "height": 143
        },
        "id": "xEfVKdF8dewL",
        "outputId": "fc646f6d-0c70-4ecb-b0a9-c9d1bbee4d9b"
      },
      "source": [
        "df.tail(3)"
      ],
      "execution_count": 20,
      "outputs": [
        {
          "output_type": "execute_result",
          "data": {
            "text/html": [
              "<div>\n",
              "<style scoped>\n",
              "    .dataframe tbody tr th:only-of-type {\n",
              "        vertical-align: middle;\n",
              "    }\n",
              "\n",
              "    .dataframe tbody tr th {\n",
              "        vertical-align: top;\n",
              "    }\n",
              "\n",
              "    .dataframe thead th {\n",
              "        text-align: right;\n",
              "    }\n",
              "</style>\n",
              "<table border=\"1\" class=\"dataframe\">\n",
              "  <thead>\n",
              "    <tr style=\"text-align: right;\">\n",
              "      <th></th>\n",
              "      <th>dataStream</th>\n",
              "      <th>rowCount</th>\n",
              "      <th>probingTimestamp</th>\n",
              "    </tr>\n",
              "  </thead>\n",
              "  <tbody>\n",
              "    <tr>\n",
              "      <th>160369</th>\n",
              "      <td>BCL_TaskCreation</td>\n",
              "      <td>289702943</td>\n",
              "      <td>2020-05-02 07:58:00.083</td>\n",
              "    </tr>\n",
              "    <tr>\n",
              "      <th>160373</th>\n",
              "      <td>BCL_TaskCreation</td>\n",
              "      <td>289702943</td>\n",
              "      <td>2020-05-02 07:59:00.543</td>\n",
              "    </tr>\n",
              "    <tr>\n",
              "      <th>160058</th>\n",
              "      <td>BCL_TaskCreation</td>\n",
              "      <td>289702943</td>\n",
              "      <td>2020-05-02 08:00:00.120</td>\n",
              "    </tr>\n",
              "  </tbody>\n",
              "</table>\n",
              "</div>"
            ],
            "text/plain": [
              "              dataStream   rowCount         probingTimestamp\n",
              "160369  BCL_TaskCreation  289702943  2020-05-02 07:58:00.083\n",
              "160373  BCL_TaskCreation  289702943  2020-05-02 07:59:00.543\n",
              "160058  BCL_TaskCreation  289702943  2020-05-02 08:00:00.120"
            ]
          },
          "metadata": {},
          "execution_count": 20
        }
      ]
    },
    {
      "cell_type": "code",
      "metadata": {
        "colab": {
          "base_uri": "https://localhost:8080/"
        },
        "id": "d9l-Gmkhdh3c",
        "outputId": "4c55d865-0063-47ee-c337-5d3cafa35fad"
      },
      "source": [
        "df.dtypes"
      ],
      "execution_count": 21,
      "outputs": [
        {
          "output_type": "execute_result",
          "data": {
            "text/plain": [
              "dataStream          object\n",
              "rowCount             int64\n",
              "probingTimestamp    object\n",
              "dtype: object"
            ]
          },
          "metadata": {},
          "execution_count": 21
        }
      ]
    },
    {
      "cell_type": "code",
      "metadata": {
        "id": "CmH42j49eGi9"
      },
      "source": [
        "df['probingTimestamp'] = pd.to_datetime(df['probingTimestamp'])"
      ],
      "execution_count": 22,
      "outputs": []
    },
    {
      "cell_type": "code",
      "metadata": {
        "colab": {
          "base_uri": "https://localhost:8080/"
        },
        "id": "ZsqWPUP3ed71",
        "outputId": "84514267-6bbb-4701-cef0-fd436b1d5130"
      },
      "source": [
        "df.dtypes"
      ],
      "execution_count": 23,
      "outputs": [
        {
          "output_type": "execute_result",
          "data": {
            "text/plain": [
              "dataStream                  object\n",
              "rowCount                     int64\n",
              "probingTimestamp    datetime64[ns]\n",
              "dtype: object"
            ]
          },
          "metadata": {},
          "execution_count": 23
        }
      ]
    },
    {
      "cell_type": "code",
      "metadata": {
        "colab": {
          "base_uri": "https://localhost:8080/",
          "height": 276
        },
        "id": "0M-R9mjjegIw",
        "outputId": "2823e68b-aabb-4678-dc8e-68a90e8d0d2a"
      },
      "source": [
        "plt.scatter(df['probingTimestamp'], df['rowCount'], s=1)\n",
        "plt.show()"
      ],
      "execution_count": 28,
      "outputs": [
        {
          "output_type": "display_data",
          "data": {
            "image/png": "[encoded data removed]",
            "text/plain": [
              "<Figure size 432x288 with 1 Axes>"
            ]
          },
          "metadata": {
            "needs_background": "light"
          }
        }
      ]
    },
    {
      "cell_type": "code",
      "metadata": {
        "colab": {
          "base_uri": "https://localhost:8080/"
        },
        "id": "EHYTAE0sj84t",
        "outputId": "614dc966-0ded-46f0-e79f-e204d9ef5562"
      },
      "source": [
        "df.probingTimestamp.max()"
      ],
      "execution_count": 31,
      "outputs": [
        {
          "output_type": "execute_result",
          "data": {
            "text/plain": [
              "Timestamp('2020-05-02 08:00:00.120000')"
            ]
          },
          "metadata": {},
          "execution_count": 31
        }
      ]
    },
    {
      "cell_type": "code",
      "metadata": {
        "colab": {
          "base_uri": "https://localhost:8080/"
        },
        "id": "uGpSL6bIkbVH",
        "outputId": "bda57e3e-0f19-413e-dfb8-32d8a0d300f3"
      },
      "source": [
        "df.probingTimestamp.min()"
      ],
      "execution_count": 32,
      "outputs": [
        {
          "output_type": "execute_result",
          "data": {
            "text/plain": [
              "Timestamp('2020-01-10 10:04:18.837000')"
            ]
          },
          "metadata": {},
          "execution_count": 32
        }
      ]
    },
    {
      "cell_type": "code",
      "metadata": {
        "id": "QAzyoLiEkhWb"
      },
      "source": [
        ""
      ],
      "execution_count": null,
      "outputs": []
    }
  ]
}