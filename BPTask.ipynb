{
  "nbformat": 4,
  "nbformat_minor": 0,
  "metadata": {
    "colab": {
      "name": "BPTask.ipynb",
      "provenance": [],
      "collapsed_sections": [],
      "authorship_tag": "ABX9TyOl7GE5cOnJiyMuPXr0x24C",
      "include_colab_link": true
    },
    "kernelspec": {
      "name": "python3",
      "display_name": "Python 3"
    },
    "language_info": {
      "name": "python"
    }
  },
  "cells": [
    {
      "cell_type": "markdown",
      "metadata": {
        "id": "view-in-github",
        "colab_type": "text"
      },
      "source": [
        "<a href=\"https://colab.research.google.com/github/pawelpuszcz/timeseries-data-analysis/blob/main/BPTask.ipynb\" target=\"_parent\"><img src=\"https://colab.research.google.com/assets/colab-badge.svg\" alt=\"Open In Colab\"/></a>"
      ]
    },
    {
      "cell_type": "code",
      "metadata": {
        "id": "PzERzxndalty"
      },
      "source": [
        ""
      ],
      "execution_count": null,
      "outputs": []
    },
    {
      "cell_type": "code",
      "metadata": {
        "id": "qVtYhoGkbHDK"
      },
      "source": [
        "import pandas as pd\n",
        "import numpy as np\n",
        "import matplotlib.pyplot as plt\n",
        "import datetime as dt\n",
        "\n",
        "%matplotlib inline"
      ],
      "execution_count": 1,
      "outputs": []
    },
    {
      "cell_type": "code",
      "metadata": {
        "id": "s24l1-G-bJ4T"
      },
      "source": [
        "df = pd.read_csv('https://bitpeak.pl/datasets/BCL_TaskCreation.csv', sep=';')"
      ],
      "execution_count": 2,
      "outputs": []
    },
    {
      "cell_type": "code",
      "metadata": {
        "colab": {
          "base_uri": "https://localhost:8080/",
          "height": 206
        },
        "id": "E_gSxtdtbSET",
        "outputId": "deae7499-5c72-4f58-96e0-12dd90da974b"
      },
      "source": [
        "df.head()"
      ],
      "execution_count": 3,
      "outputs": [
        {
          "output_type": "execute_result",
          "data": {
            "text/html": [
              "<div>\n",
              "<style scoped>\n",
              "    .dataframe tbody tr th:only-of-type {\n",
              "        vertical-align: middle;\n",
              "    }\n",
              "\n",
              "    .dataframe tbody tr th {\n",
              "        vertical-align: top;\n",
              "    }\n",
              "\n",
              "    .dataframe thead th {\n",
              "        text-align: right;\n",
              "    }\n",
              "</style>\n",
              "<table border=\"1\" class=\"dataframe\">\n",
              "  <thead>\n",
              "    <tr style=\"text-align: right;\">\n",
              "      <th></th>\n",
              "      <th>dataStream</th>\n",
              "      <th>rowCount</th>\n",
              "      <th>probingTimestamp</th>\n",
              "    </tr>\n",
              "  </thead>\n",
              "  <tbody>\n",
              "    <tr>\n",
              "      <th>0</th>\n",
              "      <td>BCL_TaskCreation</td>\n",
              "      <td>315349655</td>\n",
              "      <td>2020-01-13 09:33:00.497</td>\n",
              "    </tr>\n",
              "    <tr>\n",
              "      <th>1</th>\n",
              "      <td>BCL_TaskCreation</td>\n",
              "      <td>315349655</td>\n",
              "      <td>2020-01-13 09:34:00.157</td>\n",
              "    </tr>\n",
              "    <tr>\n",
              "      <th>2</th>\n",
              "      <td>BCL_TaskCreation</td>\n",
              "      <td>314533770</td>\n",
              "      <td>2020-01-11 01:18:00.143</td>\n",
              "    </tr>\n",
              "    <tr>\n",
              "      <th>3</th>\n",
              "      <td>BCL_TaskCreation</td>\n",
              "      <td>289249872</td>\n",
              "      <td>2020-04-05 16:10:00.333</td>\n",
              "    </tr>\n",
              "    <tr>\n",
              "      <th>4</th>\n",
              "      <td>BCL_TaskCreation</td>\n",
              "      <td>289249872</td>\n",
              "      <td>2020-04-05 16:11:00.883</td>\n",
              "    </tr>\n",
              "  </tbody>\n",
              "</table>\n",
              "</div>"
            ],
            "text/plain": [
              "         dataStream   rowCount         probingTimestamp\n",
              "0  BCL_TaskCreation  315349655  2020-01-13 09:33:00.497\n",
              "1  BCL_TaskCreation  315349655  2020-01-13 09:34:00.157\n",
              "2  BCL_TaskCreation  314533770  2020-01-11 01:18:00.143\n",
              "3  BCL_TaskCreation  289249872  2020-04-05 16:10:00.333\n",
              "4  BCL_TaskCreation  289249872  2020-04-05 16:11:00.883"
            ]
          },
          "metadata": {},
          "execution_count": 3
        }
      ]
    },
    {
      "cell_type": "code",
      "metadata": {
        "colab": {
          "base_uri": "https://localhost:8080/",
          "height": 206
        },
        "id": "HJvuhm5ZbY0O",
        "outputId": "b309d025-b35b-4aae-c381-9577ea8ab743"
      },
      "source": [
        "df.tail()"
      ],
      "execution_count": 4,
      "outputs": [
        {
          "output_type": "execute_result",
          "data": {
            "text/html": [
              "<div>\n",
              "<style scoped>\n",
              "    .dataframe tbody tr th:only-of-type {\n",
              "        vertical-align: middle;\n",
              "    }\n",
              "\n",
              "    .dataframe tbody tr th {\n",
              "        vertical-align: top;\n",
              "    }\n",
              "\n",
              "    .dataframe thead th {\n",
              "        text-align: right;\n",
              "    }\n",
              "</style>\n",
              "<table border=\"1\" class=\"dataframe\">\n",
              "  <thead>\n",
              "    <tr style=\"text-align: right;\">\n",
              "      <th></th>\n",
              "      <th>dataStream</th>\n",
              "      <th>rowCount</th>\n",
              "      <th>probingTimestamp</th>\n",
              "    </tr>\n",
              "  </thead>\n",
              "  <tbody>\n",
              "    <tr>\n",
              "      <th>160730</th>\n",
              "      <td>BCL_TaskCreation</td>\n",
              "      <td>289702842</td>\n",
              "      <td>2020-05-02 04:43:00.767</td>\n",
              "    </tr>\n",
              "    <tr>\n",
              "      <th>160731</th>\n",
              "      <td>BCL_TaskCreation</td>\n",
              "      <td>289702943</td>\n",
              "      <td>2020-05-02 07:26:01.040</td>\n",
              "    </tr>\n",
              "    <tr>\n",
              "      <th>160732</th>\n",
              "      <td>BCL_TaskCreation</td>\n",
              "      <td>289702883</td>\n",
              "      <td>2020-05-02 06:10:00.157</td>\n",
              "    </tr>\n",
              "    <tr>\n",
              "      <th>160733</th>\n",
              "      <td>BCL_TaskCreation</td>\n",
              "      <td>289702842</td>\n",
              "      <td>2020-05-02 04:18:00.117</td>\n",
              "    </tr>\n",
              "    <tr>\n",
              "      <th>160734</th>\n",
              "      <td>BCL_TaskCreation</td>\n",
              "      <td>289702883</td>\n",
              "      <td>2020-05-02 06:11:00.597</td>\n",
              "    </tr>\n",
              "  </tbody>\n",
              "</table>\n",
              "</div>"
            ],
            "text/plain": [
              "              dataStream   rowCount         probingTimestamp\n",
              "160730  BCL_TaskCreation  289702842  2020-05-02 04:43:00.767\n",
              "160731  BCL_TaskCreation  289702943  2020-05-02 07:26:01.040\n",
              "160732  BCL_TaskCreation  289702883  2020-05-02 06:10:00.157\n",
              "160733  BCL_TaskCreation  289702842  2020-05-02 04:18:00.117\n",
              "160734  BCL_TaskCreation  289702883  2020-05-02 06:11:00.597"
            ]
          },
          "metadata": {},
          "execution_count": 4
        }
      ]
    },
    {
      "cell_type": "code",
      "metadata": {
        "colab": {
          "base_uri": "https://localhost:8080/"
        },
        "id": "SjcI1kXNbbFN",
        "outputId": "148ddf96-ec45-44e8-f79a-43d91e569974"
      },
      "source": [
        "df.info()"
      ],
      "execution_count": 5,
      "outputs": [
        {
          "output_type": "stream",
          "name": "stdout",
          "text": [
            "<class 'pandas.core.frame.DataFrame'>\n",
            "RangeIndex: 160735 entries, 0 to 160734\n",
            "Data columns (total 3 columns):\n",
            " #   Column            Non-Null Count   Dtype \n",
            "---  ------            --------------   ----- \n",
            " 0   dataStream        160735 non-null  object\n",
            " 1   rowCount          160735 non-null  int64 \n",
            " 2   probingTimestamp  160735 non-null  object\n",
            "dtypes: int64(1), object(2)\n",
            "memory usage: 3.7+ MB\n"
          ]
        }
      ]
    },
    {
      "cell_type": "code",
      "metadata": {
        "colab": {
          "base_uri": "https://localhost:8080/"
        },
        "id": "TcidyLXWbe4Y",
        "outputId": "570856bb-3fc5-414a-aac4-2edd6b126022"
      },
      "source": [
        "len(df.dataStream.unique())"
      ],
      "execution_count": 9,
      "outputs": [
        {
          "output_type": "execute_result",
          "data": {
            "text/plain": [
              "1"
            ]
          },
          "metadata": {},
          "execution_count": 9
        }
      ]
    },
    {
      "cell_type": "code",
      "metadata": {
        "colab": {
          "base_uri": "https://localhost:8080/"
        },
        "id": "DvVbmpqfb2uC",
        "outputId": "02a0cb3a-a6ec-4f0f-d322-23d5338fd408"
      },
      "source": [
        "len(df.rowCount.unique())"
      ],
      "execution_count": 10,
      "outputs": [
        {
          "output_type": "execute_result",
          "data": {
            "text/plain": [
              "6612"
            ]
          },
          "metadata": {},
          "execution_count": 10
        }
      ]
    },
    {
      "cell_type": "code",
      "metadata": {
        "colab": {
          "base_uri": "https://localhost:8080/"
        },
        "id": "kHQQMM-McNQ0",
        "outputId": "95adeb99-25b5-4566-a99a-44a9e179fea1"
      },
      "source": [
        "len(df.probingTimestamp.unique())"
      ],
      "execution_count": 11,
      "outputs": [
        {
          "output_type": "execute_result",
          "data": {
            "text/plain": [
              "160513"
            ]
          },
          "metadata": {},
          "execution_count": 11
        }
      ]
    },
    {
      "cell_type": "code",
      "metadata": {
        "colab": {
          "base_uri": "https://localhost:8080/"
        },
        "id": "Rys6zsPmcYaY",
        "outputId": "0df0a72f-88ef-47db-d877-e62422ffaaf3"
      },
      "source": [
        "df.rowCount.value_counts()"
      ],
      "execution_count": 14,
      "outputs": [
        {
          "output_type": "execute_result",
          "data": {
            "text/plain": [
              "318665910    3951\n",
              "317651677    2831\n",
              "285498466    1383\n",
              "325841983    1337\n",
              "289503125     521\n",
              "             ... \n",
              "291768000       1\n",
              "334691999       1\n",
              "327345820       1\n",
              "314433147       1\n",
              "334413736       1\n",
              "Name: rowCount, Length: 6612, dtype: int64"
            ]
          },
          "metadata": {},
          "execution_count": 14
        }
      ]
    },
    {
      "cell_type": "code",
      "metadata": {
        "colab": {
          "base_uri": "https://localhost:8080/"
        },
        "id": "4x-0Ed2Xcen0",
        "outputId": "b72613b2-4b56-4671-eaa7-b4f2e34994b8"
      },
      "source": [
        "df.axes"
      ],
      "execution_count": 15,
      "outputs": [
        {
          "output_type": "execute_result",
          "data": {
            "text/plain": [
              "[RangeIndex(start=0, stop=160735, step=1),\n",
              " Index(['dataStream', 'rowCount', 'probingTimestamp'], dtype='object')]"
            ]
          },
          "metadata": {},
          "execution_count": 15
        }
      ]
    },
    {
      "cell_type": "code",
      "metadata": {
        "colab": {
          "base_uri": "https://localhost:8080/"
        },
        "id": "bMrusWscdA2a",
        "outputId": "69803630-315b-4199-a0cb-9644317877d1"
      },
      "source": [
        "df.shape"
      ],
      "execution_count": 16,
      "outputs": [
        {
          "output_type": "execute_result",
          "data": {
            "text/plain": [
              "(160735, 3)"
            ]
          },
          "metadata": {},
          "execution_count": 16
        }
      ]
    },
    {
      "cell_type": "code",
      "metadata": {
        "colab": {
          "base_uri": "https://localhost:8080/"
        },
        "id": "t1_N6xGZdDhk",
        "outputId": "5ff2e9e1-d60c-4859-d556-188f5c17902d"
      },
      "source": [
        "df.count()"
      ],
      "execution_count": 17,
      "outputs": [
        {
          "output_type": "execute_result",
          "data": {
            "text/plain": [
              "dataStream          160735\n",
              "rowCount            160735\n",
              "probingTimestamp    160735\n",
              "dtype: int64"
            ]
          },
          "metadata": {},
          "execution_count": 17
        }
      ]
    },
    {
      "cell_type": "code",
      "metadata": {
        "id": "YA_4N-iUdHGi"
      },
      "source": [
        "df.sort_values(by='probingTimestamp', inplace=True)"
      ],
      "execution_count": 18,
      "outputs": []
    },
    {
      "cell_type": "code",
      "metadata": {
        "colab": {
          "base_uri": "https://localhost:8080/",
          "height": 143
        },
        "id": "BD8pnrK7ddcE",
        "outputId": "84f60286-0b71-45fb-d678-74e53e70ac18"
      },
      "source": [
        "df.head(3)"
      ],
      "execution_count": 19,
      "outputs": [
        {
          "output_type": "execute_result",
          "data": {
            "text/html": [
              "<div>\n",
              "<style scoped>\n",
              "    .dataframe tbody tr th:only-of-type {\n",
              "        vertical-align: middle;\n",
              "    }\n",
              "\n",
              "    .dataframe tbody tr th {\n",
              "        vertical-align: top;\n",
              "    }\n",
              "\n",
              "    .dataframe thead th {\n",
              "        text-align: right;\n",
              "    }\n",
              "</style>\n",
              "<table border=\"1\" class=\"dataframe\">\n",
              "  <thead>\n",
              "    <tr style=\"text-align: right;\">\n",
              "      <th></th>\n",
              "      <th>dataStream</th>\n",
              "      <th>rowCount</th>\n",
              "      <th>probingTimestamp</th>\n",
              "    </tr>\n",
              "  </thead>\n",
              "  <tbody>\n",
              "    <tr>\n",
              "      <th>3506</th>\n",
              "      <td>BCL_TaskCreation</td>\n",
              "      <td>314015548</td>\n",
              "      <td>2020-01-10 10:04:18.837</td>\n",
              "    </tr>\n",
              "    <tr>\n",
              "      <th>3505</th>\n",
              "      <td>BCL_TaskCreation</td>\n",
              "      <td>314015548</td>\n",
              "      <td>2020-01-10 10:16:29.063</td>\n",
              "    </tr>\n",
              "    <tr>\n",
              "      <th>3507</th>\n",
              "      <td>BCL_TaskCreation</td>\n",
              "      <td>314015548</td>\n",
              "      <td>2020-01-10 10:17:00.510</td>\n",
              "    </tr>\n",
              "  </tbody>\n",
              "</table>\n",
              "</div>"
            ],
            "text/plain": [
              "            dataStream   rowCount         probingTimestamp\n",
              "3506  BCL_TaskCreation  314015548  2020-01-10 10:04:18.837\n",
              "3505  BCL_TaskCreation  314015548  2020-01-10 10:16:29.063\n",
              "3507  BCL_TaskCreation  314015548  2020-01-10 10:17:00.510"
            ]
          },
          "metadata": {},
          "execution_count": 19
        }
      ]
    },
    {
      "cell_type": "code",
      "metadata": {
        "colab": {
          "base_uri": "https://localhost:8080/",
          "height": 143
        },
        "id": "xEfVKdF8dewL",
        "outputId": "fc646f6d-0c70-4ecb-b0a9-c9d1bbee4d9b"
      },
      "source": [
        "df.tail(3)"
      ],
      "execution_count": 20,
      "outputs": [
        {
          "output_type": "execute_result",
          "data": {
            "text/html": [
              "<div>\n",
              "<style scoped>\n",
              "    .dataframe tbody tr th:only-of-type {\n",
              "        vertical-align: middle;\n",
              "    }\n",
              "\n",
              "    .dataframe tbody tr th {\n",
              "        vertical-align: top;\n",
              "    }\n",
              "\n",
              "    .dataframe thead th {\n",
              "        text-align: right;\n",
              "    }\n",
              "</style>\n",
              "<table border=\"1\" class=\"dataframe\">\n",
              "  <thead>\n",
              "    <tr style=\"text-align: right;\">\n",
              "      <th></th>\n",
              "      <th>dataStream</th>\n",
              "      <th>rowCount</th>\n",
              "      <th>probingTimestamp</th>\n",
              "    </tr>\n",
              "  </thead>\n",
              "  <tbody>\n",
              "    <tr>\n",
              "      <th>160369</th>\n",
              "      <td>BCL_TaskCreation</td>\n",
              "      <td>289702943</td>\n",
              "      <td>2020-05-02 07:58:00.083</td>\n",
              "    </tr>\n",
              "    <tr>\n",
              "      <th>160373</th>\n",
              "      <td>BCL_TaskCreation</td>\n",
              "      <td>289702943</td>\n",
              "      <td>2020-05-02 07:59:00.543</td>\n",
              "    </tr>\n",
              "    <tr>\n",
              "      <th>160058</th>\n",
              "      <td>BCL_TaskCreation</td>\n",
              "      <td>289702943</td>\n",
              "      <td>2020-05-02 08:00:00.120</td>\n",
              "    </tr>\n",
              "  </tbody>\n",
              "</table>\n",
              "</div>"
            ],
            "text/plain": [
              "              dataStream   rowCount         probingTimestamp\n",
              "160369  BCL_TaskCreation  289702943  2020-05-02 07:58:00.083\n",
              "160373  BCL_TaskCreation  289702943  2020-05-02 07:59:00.543\n",
              "160058  BCL_TaskCreation  289702943  2020-05-02 08:00:00.120"
            ]
          },
          "metadata": {},
          "execution_count": 20
        }
      ]
    },
    {
      "cell_type": "code",
      "metadata": {
        "colab": {
          "base_uri": "https://localhost:8080/"
        },
        "id": "d9l-Gmkhdh3c",
        "outputId": "4c55d865-0063-47ee-c337-5d3cafa35fad"
      },
      "source": [
        "df.dtypes"
      ],
      "execution_count": 21,
      "outputs": [
        {
          "output_type": "execute_result",
          "data": {
            "text/plain": [
              "dataStream          object\n",
              "rowCount             int64\n",
              "probingTimestamp    object\n",
              "dtype: object"
            ]
          },
          "metadata": {},
          "execution_count": 21
        }
      ]
    },
    {
      "cell_type": "code",
      "metadata": {
        "id": "CmH42j49eGi9"
      },
      "source": [
        "df['probingTimestamp'] = pd.to_datetime(df['probingTimestamp'])"
      ],
      "execution_count": 22,
      "outputs": []
    },
    {
      "cell_type": "code",
      "metadata": {
        "colab": {
          "base_uri": "https://localhost:8080/"
        },
        "id": "ZsqWPUP3ed71",
        "outputId": "84514267-6bbb-4701-cef0-fd436b1d5130"
      },
      "source": [
        "df.dtypes"
      ],
      "execution_count": 23,
      "outputs": [
        {
          "output_type": "execute_result",
          "data": {
            "text/plain": [
              "dataStream                  object\n",
              "rowCount                     int64\n",
              "probingTimestamp    datetime64[ns]\n",
              "dtype: object"
            ]
          },
          "metadata": {},
          "execution_count": 23
        }
      ]
    },
    {
      "cell_type": "code",
      "metadata": {
        "colab": {
          "base_uri": "https://localhost:8080/",
          "height": 276
        },
        "id": "0M-R9mjjegIw",
        "outputId": "2823e68b-aabb-4678-dc8e-68a90e8d0d2a"
      },
      "source": [
        "plt.scatter(df['probingTimestamp'], df['rowCount'], s=1)\n",
        "plt.show()"
      ],
      "execution_count": 28,
      "outputs": [
        {
          "output_type": "display_data",
          "data": {
            "image/png": "[encoded data removed]",
            "text/plain": [
              "<Figure size 432x288 with 1 Axes>"
            ]
          },
          "metadata": {
            "needs_background": "light"
          }
        }
      ]
    },
    {
      "cell_type": "code",
      "metadata": {
        "colab": {
          "base_uri": "https://localhost:8080/"
        },
        "id": "EHYTAE0sj84t",
        "outputId": "614dc966-0ded-46f0-e79f-e204d9ef5562"
      },
      "source": [
        "df.probingTimestamp.max()"
      ],
      "execution_count": 31,
      "outputs": [
        {
          "output_type": "execute_result",
          "data": {
            "text/plain": [
              "Timestamp('2020-05-02 08:00:00.120000')"
            ]
          },
          "metadata": {},
          "execution_count": 31
        }
      ]
    },
    {
      "cell_type": "code",
      "metadata": {
        "colab": {
          "base_uri": "https://localhost:8080/"
        },
        "id": "uGpSL6bIkbVH",
        "outputId": "bda57e3e-0f19-413e-dfb8-32d8a0d300f3"
      },
      "source": [
        "df.probingTimestamp.min()"
      ],
      "execution_count": 32,
      "outputs": [
        {
          "output_type": "execute_result",
          "data": {
            "text/plain": [
              "Timestamp('2020-01-10 10:04:18.837000')"
            ]
          },
          "metadata": {},
          "execution_count": 32
        }
      ]
    },
    {
      "cell_type": "code",
      "metadata": {
        "colab": {
          "base_uri": "https://localhost:8080/"
        },
        "id": "QAzyoLiEkhWb",
        "outputId": "993aa5e2-da74-46d5-d933-0ef1b4f96ab6"
      },
      "source": [
        "df.rowCount.max()"
      ],
      "execution_count": 33,
      "outputs": [
        {
          "output_type": "execute_result",
          "data": {
            "text/plain": [
              "338841446"
            ]
          },
          "metadata": {},
          "execution_count": 33
        }
      ]
    },
    {
      "cell_type": "code",
      "metadata": {
        "colab": {
          "base_uri": "https://localhost:8080/"
        },
        "id": "TJld_Tb_mmx2",
        "outputId": "2611d8b5-dc0f-49c0-aa73-f9c12c4b44f3"
      },
      "source": [
        "df.rowCount.min()"
      ],
      "execution_count": 34,
      "outputs": [
        {
          "output_type": "execute_result",
          "data": {
            "text/plain": [
              "283240055"
            ]
          },
          "metadata": {},
          "execution_count": 34
        }
      ]
    },
    {
      "cell_type": "code",
      "metadata": {
        "colab": {
          "base_uri": "https://localhost:8080/"
        },
        "id": "OFo5fuwymp5n",
        "outputId": "6f459191-21aa-4896-f98c-9732d5e19a0e"
      },
      "source": [
        "df.probingTimestamp.where(df.rowCount == df.rowCount.max()).dropna().head()"
      ],
      "execution_count": 40,
      "outputs": [
        {
          "output_type": "execute_result",
          "data": {
            "text/plain": [
              "80086   2020-03-06 09:03:00.980\n",
              "80087   2020-03-06 09:04:00.467\n",
              "80657   2020-03-06 09:05:01.010\n",
              "80656   2020-03-06 09:06:00.503\n",
              "80590   2020-03-06 09:07:00.037\n",
              "Name: probingTimestamp, dtype: datetime64[ns]"
            ]
          },
          "metadata": {},
          "execution_count": 40
        }
      ]
    },
    {
      "cell_type": "code",
      "metadata": {
        "colab": {
          "base_uri": "https://localhost:8080/"
        },
        "id": "dSLVx5M6nsm2",
        "outputId": "d54e9b7b-cfe6-40ba-e700-b07106d8d7a6"
      },
      "source": [
        "df.probingTimestamp.where(df.rowCount == df.rowCount.max()).dropna().tail()"
      ],
      "execution_count": 41,
      "outputs": [
        {
          "output_type": "execute_result",
          "data": {
            "text/plain": [
              "80386   2020-03-06 09:54:00.550\n",
              "80400   2020-03-06 09:55:00.043\n",
              "80401   2020-03-06 09:56:00.573\n",
              "80402   2020-03-06 09:57:00.040\n",
              "80403   2020-03-06 09:58:00.510\n",
              "Name: probingTimestamp, dtype: datetime64[ns]"
            ]
          },
          "metadata": {},
          "execution_count": 41
        }
      ]
    },
    {
      "cell_type": "code",
      "metadata": {
        "colab": {
          "base_uri": "https://localhost:8080/"
        },
        "id": "Su5nwZdCoMhw",
        "outputId": "96b5a014-d6e7-4787-b496-fb308ef72267"
      },
      "source": [
        "df.probingTimestamp.where(df.rowCount == df.rowCount.min()).dropna().head()"
      ],
      "execution_count": 42,
      "outputs": [
        {
          "output_type": "execute_result",
          "data": {
            "text/plain": [
              "84761   2020-03-09 13:38:00.147\n",
              "84762   2020-03-09 13:39:00.717\n",
              "84758   2020-03-09 13:40:00.290\n",
              "84763   2020-03-09 13:41:00.883\n",
              "84764   2020-03-09 13:42:00.353\n",
              "Name: probingTimestamp, dtype: datetime64[ns]"
            ]
          },
          "metadata": {},
          "execution_count": 42
        }
      ]
    },
    {
      "cell_type": "code",
      "metadata": {
        "colab": {
          "base_uri": "https://localhost:8080/"
        },
        "id": "tMWQn5pUoa4s",
        "outputId": "a8440ae8-e465-4f80-dd69-ee7ced0cf6ed"
      },
      "source": [
        "df.probingTimestamp.where(df.rowCount == df.rowCount.min()).dropna().tail()"
      ],
      "execution_count": 43,
      "outputs": [
        {
          "output_type": "execute_result",
          "data": {
            "text/plain": [
              "85217   2020-03-09 13:56:00.947\n",
              "85218   2020-03-09 13:57:00.797\n",
              "85219   2020-03-09 13:58:00.257\n",
              "85220   2020-03-09 13:59:00.750\n",
              "85221   2020-03-09 14:00:00.283\n",
              "Name: probingTimestamp, dtype: datetime64[ns]"
            ]
          },
          "metadata": {},
          "execution_count": 43
        }
      ]
    },
    {
      "cell_type": "code",
      "metadata": {
        "id": "Ls862DtIohLZ"
      },
      "source": [
        "df['date'] = df.probingTimestamp.dt.date"
      ],
      "execution_count": 47,
      "outputs": []
    },
    {
      "cell_type": "code",
      "metadata": {
        "colab": {
          "base_uri": "https://localhost:8080/",
          "height": 206
        },
        "id": "m-nDMZAcpT1N",
        "outputId": "58dd892f-701b-4dfe-80c3-cc4e20b2f74b"
      },
      "source": [
        "df.head()"
      ],
      "execution_count": 48,
      "outputs": [
        {
          "output_type": "execute_result",
          "data": {
            "text/html": [
              "<div>\n",
              "<style scoped>\n",
              "    .dataframe tbody tr th:only-of-type {\n",
              "        vertical-align: middle;\n",
              "    }\n",
              "\n",
              "    .dataframe tbody tr th {\n",
              "        vertical-align: top;\n",
              "    }\n",
              "\n",
              "    .dataframe thead th {\n",
              "        text-align: right;\n",
              "    }\n",
              "</style>\n",
              "<table border=\"1\" class=\"dataframe\">\n",
              "  <thead>\n",
              "    <tr style=\"text-align: right;\">\n",
              "      <th></th>\n",
              "      <th>dataStream</th>\n",
              "      <th>rowCount</th>\n",
              "      <th>probingTimestamp</th>\n",
              "      <th>date</th>\n",
              "    </tr>\n",
              "  </thead>\n",
              "  <tbody>\n",
              "    <tr>\n",
              "      <th>3506</th>\n",
              "      <td>BCL_TaskCreation</td>\n",
              "      <td>314015548</td>\n",
              "      <td>2020-01-10 10:04:18.837</td>\n",
              "      <td>2020-01-10</td>\n",
              "    </tr>\n",
              "    <tr>\n",
              "      <th>3505</th>\n",
              "      <td>BCL_TaskCreation</td>\n",
              "      <td>314015548</td>\n",
              "      <td>2020-01-10 10:16:29.063</td>\n",
              "      <td>2020-01-10</td>\n",
              "    </tr>\n",
              "    <tr>\n",
              "      <th>3507</th>\n",
              "      <td>BCL_TaskCreation</td>\n",
              "      <td>314015548</td>\n",
              "      <td>2020-01-10 10:17:00.510</td>\n",
              "      <td>2020-01-10</td>\n",
              "    </tr>\n",
              "    <tr>\n",
              "      <th>3512</th>\n",
              "      <td>BCL_TaskCreation</td>\n",
              "      <td>314015548</td>\n",
              "      <td>2020-01-10 10:18:00.977</td>\n",
              "      <td>2020-01-10</td>\n",
              "    </tr>\n",
              "    <tr>\n",
              "      <th>3513</th>\n",
              "      <td>BCL_TaskCreation</td>\n",
              "      <td>314015548</td>\n",
              "      <td>2020-01-10 10:19:00.610</td>\n",
              "      <td>2020-01-10</td>\n",
              "    </tr>\n",
              "  </tbody>\n",
              "</table>\n",
              "</div>"
            ],
            "text/plain": [
              "            dataStream   rowCount        probingTimestamp        date\n",
              "3506  BCL_TaskCreation  314015548 2020-01-10 10:04:18.837  2020-01-10\n",
              "3505  BCL_TaskCreation  314015548 2020-01-10 10:16:29.063  2020-01-10\n",
              "3507  BCL_TaskCreation  314015548 2020-01-10 10:17:00.510  2020-01-10\n",
              "3512  BCL_TaskCreation  314015548 2020-01-10 10:18:00.977  2020-01-10\n",
              "3513  BCL_TaskCreation  314015548 2020-01-10 10:19:00.610  2020-01-10"
            ]
          },
          "metadata": {},
          "execution_count": 48
        }
      ]
    },
    {
      "cell_type": "code",
      "metadata": {
        "colab": {
          "base_uri": "https://localhost:8080/"
        },
        "id": "ZUmsH7v3pWpp",
        "outputId": "e2c24f78-3e87-466a-c546-84f3aa6197c7"
      },
      "source": [
        "df.date.value_counts()"
      ],
      "execution_count": 49,
      "outputs": [
        {
          "output_type": "execute_result",
          "data": {
            "text/plain": [
              "2020-03-31    1445\n",
              "2020-02-28    1445\n",
              "2020-02-14    1444\n",
              "2020-03-06    1444\n",
              "2020-03-05    1444\n",
              "              ... \n",
              "2020-04-05    1307\n",
              "2020-01-10     825\n",
              "2020-04-07     811\n",
              "2020-04-06     649\n",
              "2020-05-02     481\n",
              "Name: probingTimestamp, Length: 114, dtype: int64"
            ]
          },
          "metadata": {},
          "execution_count": 49
        }
      ]
    },
    {
      "cell_type": "code",
      "metadata": {
        "id": "QyHdyH2fppgA"
      },
      "source": [
        "df['weekDay'] = df.probingTimestamp.dt.weekday"
      ],
      "execution_count": 50,
      "outputs": []
    },
    {
      "cell_type": "code",
      "metadata": {
        "colab": {
          "base_uri": "https://localhost:8080/",
          "height": 143
        },
        "id": "9Fg3Wa-SqeHy",
        "outputId": "452e4ab4-63f5-4567-b5b4-cfad02b48f02"
      },
      "source": [
        "df.head(3)"
      ],
      "execution_count": 51,
      "outputs": [
        {
          "output_type": "execute_result",
          "data": {
            "text/html": [
              "<div>\n",
              "<style scoped>\n",
              "    .dataframe tbody tr th:only-of-type {\n",
              "        vertical-align: middle;\n",
              "    }\n",
              "\n",
              "    .dataframe tbody tr th {\n",
              "        vertical-align: top;\n",
              "    }\n",
              "\n",
              "    .dataframe thead th {\n",
              "        text-align: right;\n",
              "    }\n",
              "</style>\n",
              "<table border=\"1\" class=\"dataframe\">\n",
              "  <thead>\n",
              "    <tr style=\"text-align: right;\">\n",
              "      <th></th>\n",
              "      <th>dataStream</th>\n",
              "      <th>rowCount</th>\n",
              "      <th>probingTimestamp</th>\n",
              "      <th>date</th>\n",
              "      <th>weekDay</th>\n",
              "    </tr>\n",
              "  </thead>\n",
              "  <tbody>\n",
              "    <tr>\n",
              "      <th>3506</th>\n",
              "      <td>BCL_TaskCreation</td>\n",
              "      <td>314015548</td>\n",
              "      <td>2020-01-10 10:04:18.837</td>\n",
              "      <td>2020-01-10</td>\n",
              "      <td>4</td>\n",
              "    </tr>\n",
              "    <tr>\n",
              "      <th>3505</th>\n",
              "      <td>BCL_TaskCreation</td>\n",
              "      <td>314015548</td>\n",
              "      <td>2020-01-10 10:16:29.063</td>\n",
              "      <td>2020-01-10</td>\n",
              "      <td>4</td>\n",
              "    </tr>\n",
              "    <tr>\n",
              "      <th>3507</th>\n",
              "      <td>BCL_TaskCreation</td>\n",
              "      <td>314015548</td>\n",
              "      <td>2020-01-10 10:17:00.510</td>\n",
              "      <td>2020-01-10</td>\n",
              "      <td>4</td>\n",
              "    </tr>\n",
              "  </tbody>\n",
              "</table>\n",
              "</div>"
            ],
            "text/plain": [
              "            dataStream   rowCount        probingTimestamp        date  weekDay\n",
              "3506  BCL_TaskCreation  314015548 2020-01-10 10:04:18.837  2020-01-10        4\n",
              "3505  BCL_TaskCreation  314015548 2020-01-10 10:16:29.063  2020-01-10        4\n",
              "3507  BCL_TaskCreation  314015548 2020-01-10 10:17:00.510  2020-01-10        4"
            ]
          },
          "metadata": {},
          "execution_count": 51
        }
      ]
    },
    {
      "cell_type": "code",
      "metadata": {
        "colab": {
          "base_uri": "https://localhost:8080/"
        },
        "id": "DxQihadgqk6A",
        "outputId": "ca1eef9b-8253-48c8-8162-ad18273f9bd9"
      },
      "source": [
        "df['weekDay'].value_counts()"
      ],
      "execution_count": 83,
      "outputs": [
        {
          "output_type": "execute_result",
          "data": {
            "text/plain": [
              "4    23879\n",
              "5    23419\n",
              "3    22987\n",
              "2    22960\n",
              "6    22912\n",
              "1    22352\n",
              "0    22226\n",
              "Name: weekDay, dtype: int64"
            ]
          },
          "metadata": {},
          "execution_count": 83
        }
      ]
    },
    {
      "cell_type": "code",
      "metadata": {
        "id": "BHvgfCU7qq6h"
      },
      "source": [
        "groupByDate = df.groupby(by='date')"
      ],
      "execution_count": 54,
      "outputs": []
    },
    {
      "cell_type": "code",
      "metadata": {
        "colab": {
          "base_uri": "https://localhost:8080/"
        },
        "id": "hjJ68p7GrC0L",
        "outputId": "e0140595-a4fe-46af-f6ae-3296f19a9dde"
      },
      "source": [
        "len(groupByDate.groups)"
      ],
      "execution_count": 55,
      "outputs": [
        {
          "output_type": "execute_result",
          "data": {
            "text/plain": [
              "114"
            ]
          },
          "metadata": {},
          "execution_count": 55
        }
      ]
    },
    {
      "cell_type": "code",
      "metadata": {
        "id": "x2bH0SJlrHu8"
      },
      "source": [
        "groupByRowCount = df.groupby(by='rowCount')"
      ],
      "execution_count": 56,
      "outputs": []
    },
    {
      "cell_type": "code",
      "metadata": {
        "colab": {
          "base_uri": "https://localhost:8080/"
        },
        "id": "8gNRjsV4rSYK",
        "outputId": "4863ec4b-3018-40fa-8a9a-a19ecd004975"
      },
      "source": [
        "len(groupByRowCount.groups)"
      ],
      "execution_count": 57,
      "outputs": [
        {
          "output_type": "execute_result",
          "data": {
            "text/plain": [
              "6612"
            ]
          },
          "metadata": {},
          "execution_count": 57
        }
      ]
    },
    {
      "cell_type": "code",
      "metadata": {
        "id": "KHBypsG4rVmp"
      },
      "source": [
        "df['timeDiff'] =  df['probingTimestamp'] - df['probingTimestamp'].shift(1)"
      ],
      "execution_count": 58,
      "outputs": []
    },
    {
      "cell_type": "code",
      "metadata": {
        "colab": {
          "base_uri": "https://localhost:8080/",
          "height": 363
        },
        "id": "4UFqMM1hr6xA",
        "outputId": "8f3ff4b5-caeb-4564-f143-d11a8944e96c"
      },
      "source": [
        "df.head(10)"
      ],
      "execution_count": 60,
      "outputs": [
        {
          "output_type": "execute_result",
          "data": {
            "text/html": [
              "<div>\n",
              "<style scoped>\n",
              "    .dataframe tbody tr th:only-of-type {\n",
              "        vertical-align: middle;\n",
              "    }\n",
              "\n",
              "    .dataframe tbody tr th {\n",
              "        vertical-align: top;\n",
              "    }\n",
              "\n",
              "    .dataframe thead th {\n",
              "        text-align: right;\n",
              "    }\n",
              "</style>\n",
              "<table border=\"1\" class=\"dataframe\">\n",
              "  <thead>\n",
              "    <tr style=\"text-align: right;\">\n",
              "      <th></th>\n",
              "      <th>dataStream</th>\n",
              "      <th>rowCount</th>\n",
              "      <th>probingTimestamp</th>\n",
              "      <th>date</th>\n",
              "      <th>weekDay</th>\n",
              "      <th>timeDiff</th>\n",
              "    </tr>\n",
              "  </thead>\n",
              "  <tbody>\n",
              "    <tr>\n",
              "      <th>3506</th>\n",
              "      <td>BCL_TaskCreation</td>\n",
              "      <td>314015548</td>\n",
              "      <td>2020-01-10 10:04:18.837</td>\n",
              "      <td>2020-01-10</td>\n",
              "      <td>4</td>\n",
              "      <td>NaT</td>\n",
              "    </tr>\n",
              "    <tr>\n",
              "      <th>3505</th>\n",
              "      <td>BCL_TaskCreation</td>\n",
              "      <td>314015548</td>\n",
              "      <td>2020-01-10 10:16:29.063</td>\n",
              "      <td>2020-01-10</td>\n",
              "      <td>4</td>\n",
              "      <td>0 days 00:12:10.226000</td>\n",
              "    </tr>\n",
              "    <tr>\n",
              "      <th>3507</th>\n",
              "      <td>BCL_TaskCreation</td>\n",
              "      <td>314015548</td>\n",
              "      <td>2020-01-10 10:17:00.510</td>\n",
              "      <td>2020-01-10</td>\n",
              "      <td>4</td>\n",
              "      <td>0 days 00:00:31.447000</td>\n",
              "    </tr>\n",
              "    <tr>\n",
              "      <th>3512</th>\n",
              "      <td>BCL_TaskCreation</td>\n",
              "      <td>314015548</td>\n",
              "      <td>2020-01-10 10:18:00.977</td>\n",
              "      <td>2020-01-10</td>\n",
              "      <td>4</td>\n",
              "      <td>0 days 00:01:00.467000</td>\n",
              "    </tr>\n",
              "    <tr>\n",
              "      <th>3513</th>\n",
              "      <td>BCL_TaskCreation</td>\n",
              "      <td>314015548</td>\n",
              "      <td>2020-01-10 10:19:00.610</td>\n",
              "      <td>2020-01-10</td>\n",
              "      <td>4</td>\n",
              "      <td>0 days 00:00:59.633000</td>\n",
              "    </tr>\n",
              "    <tr>\n",
              "      <th>3514</th>\n",
              "      <td>BCL_TaskCreation</td>\n",
              "      <td>314015548</td>\n",
              "      <td>2020-01-10 10:20:00.970</td>\n",
              "      <td>2020-01-10</td>\n",
              "      <td>4</td>\n",
              "      <td>0 days 00:01:00.360000</td>\n",
              "    </tr>\n",
              "    <tr>\n",
              "      <th>3515</th>\n",
              "      <td>BCL_TaskCreation</td>\n",
              "      <td>314015548</td>\n",
              "      <td>2020-01-10 10:21:00.440</td>\n",
              "      <td>2020-01-10</td>\n",
              "      <td>4</td>\n",
              "      <td>0 days 00:00:59.470000</td>\n",
              "    </tr>\n",
              "    <tr>\n",
              "      <th>3516</th>\n",
              "      <td>BCL_TaskCreation</td>\n",
              "      <td>314015548</td>\n",
              "      <td>2020-01-10 10:22:00.933</td>\n",
              "      <td>2020-01-10</td>\n",
              "      <td>4</td>\n",
              "      <td>0 days 00:01:00.493000</td>\n",
              "    </tr>\n",
              "    <tr>\n",
              "      <th>3518</th>\n",
              "      <td>BCL_TaskCreation</td>\n",
              "      <td>314015548</td>\n",
              "      <td>2020-01-10 10:23:00.893</td>\n",
              "      <td>2020-01-10</td>\n",
              "      <td>4</td>\n",
              "      <td>0 days 00:00:59.960000</td>\n",
              "    </tr>\n",
              "    <tr>\n",
              "      <th>3406</th>\n",
              "      <td>BCL_TaskCreation</td>\n",
              "      <td>314015548</td>\n",
              "      <td>2020-01-10 10:24:00.407</td>\n",
              "      <td>2020-01-10</td>\n",
              "      <td>4</td>\n",
              "      <td>0 days 00:00:59.514000</td>\n",
              "    </tr>\n",
              "  </tbody>\n",
              "</table>\n",
              "</div>"
            ],
            "text/plain": [
              "            dataStream   rowCount  ... weekDay               timeDiff\n",
              "3506  BCL_TaskCreation  314015548  ...       4                    NaT\n",
              "3505  BCL_TaskCreation  314015548  ...       4 0 days 00:12:10.226000\n",
              "3507  BCL_TaskCreation  314015548  ...       4 0 days 00:00:31.447000\n",
              "3512  BCL_TaskCreation  314015548  ...       4 0 days 00:01:00.467000\n",
              "3513  BCL_TaskCreation  314015548  ...       4 0 days 00:00:59.633000\n",
              "3514  BCL_TaskCreation  314015548  ...       4 0 days 00:01:00.360000\n",
              "3515  BCL_TaskCreation  314015548  ...       4 0 days 00:00:59.470000\n",
              "3516  BCL_TaskCreation  314015548  ...       4 0 days 00:01:00.493000\n",
              "3518  BCL_TaskCreation  314015548  ...       4 0 days 00:00:59.960000\n",
              "3406  BCL_TaskCreation  314015548  ...       4 0 days 00:00:59.514000\n",
              "\n",
              "[10 rows x 6 columns]"
            ]
          },
          "metadata": {},
          "execution_count": 60
        }
      ]
    },
    {
      "cell_type": "code",
      "metadata": {
        "colab": {
          "base_uri": "https://localhost:8080/",
          "height": 363
        },
        "id": "Gldb3g4cr8bP",
        "outputId": "bb86e0b9-0fd7-4214-f45a-243a5e5c3b15"
      },
      "source": [
        "df.tail(10)"
      ],
      "execution_count": 61,
      "outputs": [
        {
          "output_type": "execute_result",
          "data": {
            "text/html": [
              "<div>\n",
              "<style scoped>\n",
              "    .dataframe tbody tr th:only-of-type {\n",
              "        vertical-align: middle;\n",
              "    }\n",
              "\n",
              "    .dataframe tbody tr th {\n",
              "        vertical-align: top;\n",
              "    }\n",
              "\n",
              "    .dataframe thead th {\n",
              "        text-align: right;\n",
              "    }\n",
              "</style>\n",
              "<table border=\"1\" class=\"dataframe\">\n",
              "  <thead>\n",
              "    <tr style=\"text-align: right;\">\n",
              "      <th></th>\n",
              "      <th>dataStream</th>\n",
              "      <th>rowCount</th>\n",
              "      <th>probingTimestamp</th>\n",
              "      <th>date</th>\n",
              "      <th>weekDay</th>\n",
              "      <th>timeDiff</th>\n",
              "    </tr>\n",
              "  </thead>\n",
              "  <tbody>\n",
              "    <tr>\n",
              "      <th>160694</th>\n",
              "      <td>BCL_TaskCreation</td>\n",
              "      <td>289702943</td>\n",
              "      <td>2020-05-02 07:51:00.577</td>\n",
              "      <td>2020-05-02</td>\n",
              "      <td>5</td>\n",
              "      <td>0 days 00:01:00.497000</td>\n",
              "    </tr>\n",
              "    <tr>\n",
              "      <th>159816</th>\n",
              "      <td>BCL_TaskCreation</td>\n",
              "      <td>289702943</td>\n",
              "      <td>2020-05-02 07:52:00.090</td>\n",
              "      <td>2020-05-02</td>\n",
              "      <td>5</td>\n",
              "      <td>0 days 00:00:59.513000</td>\n",
              "    </tr>\n",
              "    <tr>\n",
              "      <th>160315</th>\n",
              "      <td>BCL_TaskCreation</td>\n",
              "      <td>289702943</td>\n",
              "      <td>2020-05-02 07:53:00.577</td>\n",
              "      <td>2020-05-02</td>\n",
              "      <td>5</td>\n",
              "      <td>0 days 00:01:00.487000</td>\n",
              "    </tr>\n",
              "    <tr>\n",
              "      <th>160318</th>\n",
              "      <td>BCL_TaskCreation</td>\n",
              "      <td>289702943</td>\n",
              "      <td>2020-05-02 07:54:00.120</td>\n",
              "      <td>2020-05-02</td>\n",
              "      <td>5</td>\n",
              "      <td>0 days 00:00:59.543000</td>\n",
              "    </tr>\n",
              "    <tr>\n",
              "      <th>160319</th>\n",
              "      <td>BCL_TaskCreation</td>\n",
              "      <td>289702943</td>\n",
              "      <td>2020-05-02 07:55:00.620</td>\n",
              "      <td>2020-05-02</td>\n",
              "      <td>5</td>\n",
              "      <td>0 days 00:01:00.500000</td>\n",
              "    </tr>\n",
              "    <tr>\n",
              "      <th>160365</th>\n",
              "      <td>BCL_TaskCreation</td>\n",
              "      <td>289702943</td>\n",
              "      <td>2020-05-02 07:56:00.117</td>\n",
              "      <td>2020-05-02</td>\n",
              "      <td>5</td>\n",
              "      <td>0 days 00:00:59.497000</td>\n",
              "    </tr>\n",
              "    <tr>\n",
              "      <th>160366</th>\n",
              "      <td>BCL_TaskCreation</td>\n",
              "      <td>289702943</td>\n",
              "      <td>2020-05-02 07:57:00.537</td>\n",
              "      <td>2020-05-02</td>\n",
              "      <td>5</td>\n",
              "      <td>0 days 00:01:00.420000</td>\n",
              "    </tr>\n",
              "    <tr>\n",
              "      <th>160369</th>\n",
              "      <td>BCL_TaskCreation</td>\n",
              "      <td>289702943</td>\n",
              "      <td>2020-05-02 07:58:00.083</td>\n",
              "      <td>2020-05-02</td>\n",
              "      <td>5</td>\n",
              "      <td>0 days 00:00:59.546000</td>\n",
              "    </tr>\n",
              "    <tr>\n",
              "      <th>160373</th>\n",
              "      <td>BCL_TaskCreation</td>\n",
              "      <td>289702943</td>\n",
              "      <td>2020-05-02 07:59:00.543</td>\n",
              "      <td>2020-05-02</td>\n",
              "      <td>5</td>\n",
              "      <td>0 days 00:01:00.460000</td>\n",
              "    </tr>\n",
              "    <tr>\n",
              "      <th>160058</th>\n",
              "      <td>BCL_TaskCreation</td>\n",
              "      <td>289702943</td>\n",
              "      <td>2020-05-02 08:00:00.120</td>\n",
              "      <td>2020-05-02</td>\n",
              "      <td>5</td>\n",
              "      <td>0 days 00:00:59.577000</td>\n",
              "    </tr>\n",
              "  </tbody>\n",
              "</table>\n",
              "</div>"
            ],
            "text/plain": [
              "              dataStream   rowCount  ... weekDay               timeDiff\n",
              "160694  BCL_TaskCreation  289702943  ...       5 0 days 00:01:00.497000\n",
              "159816  BCL_TaskCreation  289702943  ...       5 0 days 00:00:59.513000\n",
              "160315  BCL_TaskCreation  289702943  ...       5 0 days 00:01:00.487000\n",
              "160318  BCL_TaskCreation  289702943  ...       5 0 days 00:00:59.543000\n",
              "160319  BCL_TaskCreation  289702943  ...       5 0 days 00:01:00.500000\n",
              "160365  BCL_TaskCreation  289702943  ...       5 0 days 00:00:59.497000\n",
              "160366  BCL_TaskCreation  289702943  ...       5 0 days 00:01:00.420000\n",
              "160369  BCL_TaskCreation  289702943  ...       5 0 days 00:00:59.546000\n",
              "160373  BCL_TaskCreation  289702943  ...       5 0 days 00:01:00.460000\n",
              "160058  BCL_TaskCreation  289702943  ...       5 0 days 00:00:59.577000\n",
              "\n",
              "[10 rows x 6 columns]"
            ]
          },
          "metadata": {},
          "execution_count": 61
        }
      ]
    },
    {
      "cell_type": "code",
      "metadata": {
        "id": "7clbuc2OXVYT"
      },
      "source": [
        "filter = (df['rowCount']>306500000) & (df['rowCount']<308000000)"
      ],
      "execution_count": 66,
      "outputs": []
    },
    {
      "cell_type": "code",
      "metadata": {
        "id": "E-FnsfApZta4"
      },
      "source": [
        "df_cut = df[filter]"
      ],
      "execution_count": 72,
      "outputs": []
    },
    {
      "cell_type": "code",
      "metadata": {
        "colab": {
          "base_uri": "https://localhost:8080/",
          "height": 206
        },
        "id": "gNCiswvKZyvP",
        "outputId": "0262107b-e178-4e3e-dda3-b5a3c361b7fd"
      },
      "source": [
        "df_cut.head()"
      ],
      "execution_count": 73,
      "outputs": [
        {
          "output_type": "execute_result",
          "data": {
            "text/html": [
              "<div>\n",
              "<style scoped>\n",
              "    .dataframe tbody tr th:only-of-type {\n",
              "        vertical-align: middle;\n",
              "    }\n",
              "\n",
              "    .dataframe tbody tr th {\n",
              "        vertical-align: top;\n",
              "    }\n",
              "\n",
              "    .dataframe thead th {\n",
              "        text-align: right;\n",
              "    }\n",
              "</style>\n",
              "<table border=\"1\" class=\"dataframe\">\n",
              "  <thead>\n",
              "    <tr style=\"text-align: right;\">\n",
              "      <th></th>\n",
              "      <th>dataStream</th>\n",
              "      <th>rowCount</th>\n",
              "      <th>probingTimestamp</th>\n",
              "      <th>date</th>\n",
              "      <th>weekDay</th>\n",
              "      <th>timeDiff</th>\n",
              "    </tr>\n",
              "  </thead>\n",
              "  <tbody>\n",
              "    <tr>\n",
              "      <th>80511</th>\n",
              "      <td>BCL_TaskCreation</td>\n",
              "      <td>307921446</td>\n",
              "      <td>2020-03-06 14:38:00.850</td>\n",
              "      <td>2020-03-06</td>\n",
              "      <td>4</td>\n",
              "      <td>0 days 00:01:00.483000</td>\n",
              "    </tr>\n",
              "    <tr>\n",
              "      <th>80512</th>\n",
              "      <td>BCL_TaskCreation</td>\n",
              "      <td>307811446</td>\n",
              "      <td>2020-03-06 14:39:00.383</td>\n",
              "      <td>2020-03-06</td>\n",
              "      <td>4</td>\n",
              "      <td>0 days 00:00:59.533000</td>\n",
              "    </tr>\n",
              "    <tr>\n",
              "      <th>80513</th>\n",
              "      <td>BCL_TaskCreation</td>\n",
              "      <td>307691446</td>\n",
              "      <td>2020-03-06 14:40:00.897</td>\n",
              "      <td>2020-03-06</td>\n",
              "      <td>4</td>\n",
              "      <td>0 days 00:01:00.514000</td>\n",
              "    </tr>\n",
              "    <tr>\n",
              "      <th>81153</th>\n",
              "      <td>BCL_TaskCreation</td>\n",
              "      <td>307581446</td>\n",
              "      <td>2020-03-06 14:41:00.337</td>\n",
              "      <td>2020-03-06</td>\n",
              "      <td>4</td>\n",
              "      <td>0 days 00:00:59.440000</td>\n",
              "    </tr>\n",
              "    <tr>\n",
              "      <th>81154</th>\n",
              "      <td>BCL_TaskCreation</td>\n",
              "      <td>307471446</td>\n",
              "      <td>2020-03-06 14:42:00.870</td>\n",
              "      <td>2020-03-06</td>\n",
              "      <td>4</td>\n",
              "      <td>0 days 00:01:00.533000</td>\n",
              "    </tr>\n",
              "  </tbody>\n",
              "</table>\n",
              "</div>"
            ],
            "text/plain": [
              "             dataStream   rowCount  ... weekDay               timeDiff\n",
              "80511  BCL_TaskCreation  307921446  ...       4 0 days 00:01:00.483000\n",
              "80512  BCL_TaskCreation  307811446  ...       4 0 days 00:00:59.533000\n",
              "80513  BCL_TaskCreation  307691446  ...       4 0 days 00:01:00.514000\n",
              "81153  BCL_TaskCreation  307581446  ...       4 0 days 00:00:59.440000\n",
              "81154  BCL_TaskCreation  307471446  ...       4 0 days 00:01:00.533000\n",
              "\n",
              "[5 rows x 6 columns]"
            ]
          },
          "metadata": {},
          "execution_count": 73
        }
      ]
    },
    {
      "cell_type": "code",
      "metadata": {
        "colab": {
          "base_uri": "https://localhost:8080/",
          "height": 276
        },
        "id": "ehvZIsxpZ1xD",
        "outputId": "133edc50-c0fe-492a-c4a2-045e094a090d"
      },
      "source": [
        "plt.scatter(df_cut['probingTimestamp'], df_cut['rowCount'], s=1)\n",
        "plt.show()"
      ],
      "execution_count": 74,
      "outputs": [
        {
          "output_type": "display_data",
          "data": {
            "image/png": "[encoded data removed]",
            "text/plain": [
              "<Figure size 432x288 with 1 Axes>"
            ]
          },
          "metadata": {
            "needs_background": "light"
          }
        }
      ]
    },
    {
      "cell_type": "code",
      "metadata": {
        "colab": {
          "base_uri": "https://localhost:8080/"
        },
        "id": "TgcOf5XyaKY_",
        "outputId": "74deeb30-d586-4fb5-a319-587dd1a330f8"
      },
      "source": [
        "df_cut.probingTimestamp.max()"
      ],
      "execution_count": 75,
      "outputs": [
        {
          "output_type": "execute_result",
          "data": {
            "text/plain": [
              "Timestamp('2020-03-09 09:04:00.777000')"
            ]
          },
          "metadata": {},
          "execution_count": 75
        }
      ]
    },
    {
      "cell_type": "code",
      "metadata": {
        "colab": {
          "base_uri": "https://localhost:8080/"
        },
        "id": "EH27u6b0a3pJ",
        "outputId": "3a84756d-5ce8-47aa-e511-73502f27795f"
      },
      "source": [
        "df_cut.probingTimestamp.min()"
      ],
      "execution_count": 76,
      "outputs": [
        {
          "output_type": "execute_result",
          "data": {
            "text/plain": [
              "Timestamp('2020-03-06 14:38:00.850000')"
            ]
          },
          "metadata": {},
          "execution_count": 76
        }
      ]
    },
    {
      "cell_type": "code",
      "metadata": {
        "id": "dtvgckt5a8Ds"
      },
      "source": [
        "filter2 = (df['timeDiff'] >= '0 days 00:00:55.000000') & (df['timeDiff'] <= '0 days 00:01:05.000000')"
      ],
      "execution_count": 106,
      "outputs": []
    },
    {
      "cell_type": "code",
      "metadata": {
        "colab": {
          "base_uri": "https://localhost:8080/",
          "height": 424
        },
        "id": "gmXfxFRiS19A",
        "outputId": "38614e29-2c36-40c0-9eb0-b1159fa0da4d"
      },
      "source": [
        "df[filter2]"
      ],
      "execution_count": 107,
      "outputs": [
        {
          "output_type": "execute_result",
          "data": {
            "text/html": [
              "<div>\n",
              "<style scoped>\n",
              "    .dataframe tbody tr th:only-of-type {\n",
              "        vertical-align: middle;\n",
              "    }\n",
              "\n",
              "    .dataframe tbody tr th {\n",
              "        vertical-align: top;\n",
              "    }\n",
              "\n",
              "    .dataframe thead th {\n",
              "        text-align: right;\n",
              "    }\n",
              "</style>\n",
              "<table border=\"1\" class=\"dataframe\">\n",
              "  <thead>\n",
              "    <tr style=\"text-align: right;\">\n",
              "      <th></th>\n",
              "      <th>dataStream</th>\n",
              "      <th>rowCount</th>\n",
              "      <th>probingTimestamp</th>\n",
              "      <th>date</th>\n",
              "      <th>weekDay</th>\n",
              "      <th>timeDiff</th>\n",
              "    </tr>\n",
              "  </thead>\n",
              "  <tbody>\n",
              "    <tr>\n",
              "      <th>3512</th>\n",
              "      <td>BCL_TaskCreation</td>\n",
              "      <td>314015548</td>\n",
              "      <td>2020-01-10 10:18:00.977</td>\n",
              "      <td>2020-01-10</td>\n",
              "      <td>4</td>\n",
              "      <td>0 days 00:01:00.467000</td>\n",
              "    </tr>\n",
              "    <tr>\n",
              "      <th>3513</th>\n",
              "      <td>BCL_TaskCreation</td>\n",
              "      <td>314015548</td>\n",
              "      <td>2020-01-10 10:19:00.610</td>\n",
              "      <td>2020-01-10</td>\n",
              "      <td>4</td>\n",
              "      <td>0 days 00:00:59.633000</td>\n",
              "    </tr>\n",
              "    <tr>\n",
              "      <th>3514</th>\n",
              "      <td>BCL_TaskCreation</td>\n",
              "      <td>314015548</td>\n",
              "      <td>2020-01-10 10:20:00.970</td>\n",
              "      <td>2020-01-10</td>\n",
              "      <td>4</td>\n",
              "      <td>0 days 00:01:00.360000</td>\n",
              "    </tr>\n",
              "    <tr>\n",
              "      <th>3515</th>\n",
              "      <td>BCL_TaskCreation</td>\n",
              "      <td>314015548</td>\n",
              "      <td>2020-01-10 10:21:00.440</td>\n",
              "      <td>2020-01-10</td>\n",
              "      <td>4</td>\n",
              "      <td>0 days 00:00:59.470000</td>\n",
              "    </tr>\n",
              "    <tr>\n",
              "      <th>3516</th>\n",
              "      <td>BCL_TaskCreation</td>\n",
              "      <td>314015548</td>\n",
              "      <td>2020-01-10 10:22:00.933</td>\n",
              "      <td>2020-01-10</td>\n",
              "      <td>4</td>\n",
              "      <td>0 days 00:01:00.493000</td>\n",
              "    </tr>\n",
              "    <tr>\n",
              "      <th>...</th>\n",
              "      <td>...</td>\n",
              "      <td>...</td>\n",
              "      <td>...</td>\n",
              "      <td>...</td>\n",
              "      <td>...</td>\n",
              "      <td>...</td>\n",
              "    </tr>\n",
              "    <tr>\n",
              "      <th>160365</th>\n",
              "      <td>BCL_TaskCreation</td>\n",
              "      <td>289702943</td>\n",
              "      <td>2020-05-02 07:56:00.117</td>\n",
              "      <td>2020-05-02</td>\n",
              "      <td>5</td>\n",
              "      <td>0 days 00:00:59.497000</td>\n",
              "    </tr>\n",
              "    <tr>\n",
              "      <th>160366</th>\n",
              "      <td>BCL_TaskCreation</td>\n",
              "      <td>289702943</td>\n",
              "      <td>2020-05-02 07:57:00.537</td>\n",
              "      <td>2020-05-02</td>\n",
              "      <td>5</td>\n",
              "      <td>0 days 00:01:00.420000</td>\n",
              "    </tr>\n",
              "    <tr>\n",
              "      <th>160369</th>\n",
              "      <td>BCL_TaskCreation</td>\n",
              "      <td>289702943</td>\n",
              "      <td>2020-05-02 07:58:00.083</td>\n",
              "      <td>2020-05-02</td>\n",
              "      <td>5</td>\n",
              "      <td>0 days 00:00:59.546000</td>\n",
              "    </tr>\n",
              "    <tr>\n",
              "      <th>160373</th>\n",
              "      <td>BCL_TaskCreation</td>\n",
              "      <td>289702943</td>\n",
              "      <td>2020-05-02 07:59:00.543</td>\n",
              "      <td>2020-05-02</td>\n",
              "      <td>5</td>\n",
              "      <td>0 days 00:01:00.460000</td>\n",
              "    </tr>\n",
              "    <tr>\n",
              "      <th>160058</th>\n",
              "      <td>BCL_TaskCreation</td>\n",
              "      <td>289702943</td>\n",
              "      <td>2020-05-02 08:00:00.120</td>\n",
              "      <td>2020-05-02</td>\n",
              "      <td>5</td>\n",
              "      <td>0 days 00:00:59.577000</td>\n",
              "    </tr>\n",
              "  </tbody>\n",
              "</table>\n",
              "<p>160179 rows × 6 columns</p>\n",
              "</div>"
            ],
            "text/plain": [
              "              dataStream   rowCount  ... weekDay               timeDiff\n",
              "3512    BCL_TaskCreation  314015548  ...       4 0 days 00:01:00.467000\n",
              "3513    BCL_TaskCreation  314015548  ...       4 0 days 00:00:59.633000\n",
              "3514    BCL_TaskCreation  314015548  ...       4 0 days 00:01:00.360000\n",
              "3515    BCL_TaskCreation  314015548  ...       4 0 days 00:00:59.470000\n",
              "3516    BCL_TaskCreation  314015548  ...       4 0 days 00:01:00.493000\n",
              "...                  ...        ...  ...     ...                    ...\n",
              "160365  BCL_TaskCreation  289702943  ...       5 0 days 00:00:59.497000\n",
              "160366  BCL_TaskCreation  289702943  ...       5 0 days 00:01:00.420000\n",
              "160369  BCL_TaskCreation  289702943  ...       5 0 days 00:00:59.546000\n",
              "160373  BCL_TaskCreation  289702943  ...       5 0 days 00:01:00.460000\n",
              "160058  BCL_TaskCreation  289702943  ...       5 0 days 00:00:59.577000\n",
              "\n",
              "[160179 rows x 6 columns]"
            ]
          },
          "metadata": {},
          "execution_count": 107
        }
      ]
    },
    {
      "cell_type": "code",
      "metadata": {
        "id": "1dBWljfLTC-4"
      },
      "source": [
        "filter3 = (df['timeDiff'] < '0 days 00:00:55.000000') | (df['timeDiff'] > '0 days 00:01:05.000000')"
      ],
      "execution_count": 132,
      "outputs": []
    },
    {
      "cell_type": "code",
      "metadata": {
        "colab": {
          "base_uri": "https://localhost:8080/",
          "height": 424
        },
        "id": "-QDyE8P0UaTk",
        "outputId": "8cfda7cc-93c6-4006-cee0-0d13a0200bea"
      },
      "source": [
        "df[filter3]"
      ],
      "execution_count": 133,
      "outputs": [
        {
          "output_type": "execute_result",
          "data": {
            "text/html": [
              "<div>\n",
              "<style scoped>\n",
              "    .dataframe tbody tr th:only-of-type {\n",
              "        vertical-align: middle;\n",
              "    }\n",
              "\n",
              "    .dataframe tbody tr th {\n",
              "        vertical-align: top;\n",
              "    }\n",
              "\n",
              "    .dataframe thead th {\n",
              "        text-align: right;\n",
              "    }\n",
              "</style>\n",
              "<table border=\"1\" class=\"dataframe\">\n",
              "  <thead>\n",
              "    <tr style=\"text-align: right;\">\n",
              "      <th></th>\n",
              "      <th>dataStream</th>\n",
              "      <th>rowCount</th>\n",
              "      <th>probingTimestamp</th>\n",
              "      <th>date</th>\n",
              "      <th>weekDay</th>\n",
              "      <th>timeDiff</th>\n",
              "    </tr>\n",
              "  </thead>\n",
              "  <tbody>\n",
              "    <tr>\n",
              "      <th>3505</th>\n",
              "      <td>BCL_TaskCreation</td>\n",
              "      <td>314015548</td>\n",
              "      <td>2020-01-10 10:16:29.063</td>\n",
              "      <td>2020-01-10</td>\n",
              "      <td>4</td>\n",
              "      <td>0 days 00:12:10.226000</td>\n",
              "    </tr>\n",
              "    <tr>\n",
              "      <th>3507</th>\n",
              "      <td>BCL_TaskCreation</td>\n",
              "      <td>314015548</td>\n",
              "      <td>2020-01-10 10:17:00.510</td>\n",
              "      <td>2020-01-10</td>\n",
              "      <td>4</td>\n",
              "      <td>0 days 00:00:31.447000</td>\n",
              "    </tr>\n",
              "    <tr>\n",
              "      <th>431</th>\n",
              "      <td>BCL_TaskCreation</td>\n",
              "      <td>314557745</td>\n",
              "      <td>2020-01-11 03:30:07.070</td>\n",
              "      <td>2020-01-11</td>\n",
              "      <td>5</td>\n",
              "      <td>0 days 00:01:06.210000</td>\n",
              "    </tr>\n",
              "    <tr>\n",
              "      <th>432</th>\n",
              "      <td>BCL_TaskCreation</td>\n",
              "      <td>314557745</td>\n",
              "      <td>2020-01-11 03:32:02.533</td>\n",
              "      <td>2020-01-11</td>\n",
              "      <td>5</td>\n",
              "      <td>0 days 00:01:55.463000</td>\n",
              "    </tr>\n",
              "    <tr>\n",
              "      <th>3091</th>\n",
              "      <td>BCL_TaskCreation</td>\n",
              "      <td>315279286</td>\n",
              "      <td>2020-01-13 03:24:21.240</td>\n",
              "      <td>2020-01-13</td>\n",
              "      <td>0</td>\n",
              "      <td>0 days 00:01:20.733000</td>\n",
              "    </tr>\n",
              "    <tr>\n",
              "      <th>...</th>\n",
              "      <td>...</td>\n",
              "      <td>...</td>\n",
              "      <td>...</td>\n",
              "      <td>...</td>\n",
              "      <td>...</td>\n",
              "      <td>...</td>\n",
              "    </tr>\n",
              "    <tr>\n",
              "      <th>158658</th>\n",
              "      <td>BCL_TaskCreation</td>\n",
              "      <td>289699633</td>\n",
              "      <td>2020-05-01 04:18:21.130</td>\n",
              "      <td>2020-05-01</td>\n",
              "      <td>4</td>\n",
              "      <td>0 days 00:01:20.650000</td>\n",
              "    </tr>\n",
              "    <tr>\n",
              "      <th>159349</th>\n",
              "      <td>BCL_TaskCreation</td>\n",
              "      <td>289699633</td>\n",
              "      <td>2020-05-01 04:19:00.343</td>\n",
              "      <td>2020-05-01</td>\n",
              "      <td>4</td>\n",
              "      <td>0 days 00:00:39.213000</td>\n",
              "    </tr>\n",
              "    <tr>\n",
              "      <th>159527</th>\n",
              "      <td>BCL_TaskCreation</td>\n",
              "      <td>289699834</td>\n",
              "      <td>2020-05-01 08:03:00.837</td>\n",
              "      <td>2020-05-01</td>\n",
              "      <td>4</td>\n",
              "      <td>0 days 00:02:00.127000</td>\n",
              "    </tr>\n",
              "    <tr>\n",
              "      <th>160164</th>\n",
              "      <td>BCL_TaskCreation</td>\n",
              "      <td>289702632</td>\n",
              "      <td>2020-05-02 00:03:00.253</td>\n",
              "      <td>2020-05-02</td>\n",
              "      <td>5</td>\n",
              "      <td>0 days 00:02:00.106000</td>\n",
              "    </tr>\n",
              "    <tr>\n",
              "      <th>160143</th>\n",
              "      <td>BCL_TaskCreation</td>\n",
              "      <td>289702842</td>\n",
              "      <td>2020-05-02 04:02:00.040</td>\n",
              "      <td>2020-05-02</td>\n",
              "      <td>5</td>\n",
              "      <td>0 days 00:00:00</td>\n",
              "    </tr>\n",
              "  </tbody>\n",
              "</table>\n",
              "<p>555 rows × 6 columns</p>\n",
              "</div>"
            ],
            "text/plain": [
              "              dataStream   rowCount  ... weekDay               timeDiff\n",
              "3505    BCL_TaskCreation  314015548  ...       4 0 days 00:12:10.226000\n",
              "3507    BCL_TaskCreation  314015548  ...       4 0 days 00:00:31.447000\n",
              "431     BCL_TaskCreation  314557745  ...       5 0 days 00:01:06.210000\n",
              "432     BCL_TaskCreation  314557745  ...       5 0 days 00:01:55.463000\n",
              "3091    BCL_TaskCreation  315279286  ...       0 0 days 00:01:20.733000\n",
              "...                  ...        ...  ...     ...                    ...\n",
              "158658  BCL_TaskCreation  289699633  ...       4 0 days 00:01:20.650000\n",
              "159349  BCL_TaskCreation  289699633  ...       4 0 days 00:00:39.213000\n",
              "159527  BCL_TaskCreation  289699834  ...       4 0 days 00:02:00.127000\n",
              "160164  BCL_TaskCreation  289702632  ...       5 0 days 00:02:00.106000\n",
              "160143  BCL_TaskCreation  289702842  ...       5        0 days 00:00:00\n",
              "\n",
              "[555 rows x 6 columns]"
            ]
          },
          "metadata": {},
          "execution_count": 133
        }
      ]
    },
    {
      "cell_type": "code",
      "metadata": {
        "colab": {
          "base_uri": "https://localhost:8080/"
        },
        "id": "fmDzhxfbVBXM",
        "outputId": "1a4ef59b-083e-4208-fc44-09713e6a7de2"
      },
      "source": [
        "df[filter3].timeDiff.max()"
      ],
      "execution_count": 110,
      "outputs": [
        {
          "output_type": "execute_result",
          "data": {
            "text/plain": [
              "Timedelta('0 days 23:38:42.740000')"
            ]
          },
          "metadata": {},
          "execution_count": 110
        }
      ]
    },
    {
      "cell_type": "code",
      "metadata": {
        "colab": {
          "base_uri": "https://localhost:8080/"
        },
        "id": "Kstk3tddXLub",
        "outputId": "90e06c97-164d-4dca-edaf-48e786320dab"
      },
      "source": [
        "df[filter3].timeDiff.min()"
      ],
      "execution_count": 111,
      "outputs": [
        {
          "output_type": "execute_result",
          "data": {
            "text/plain": [
              "Timedelta('0 days 00:00:00')"
            ]
          },
          "metadata": {},
          "execution_count": 111
        }
      ]
    },
    {
      "cell_type": "code",
      "metadata": {
        "colab": {
          "base_uri": "https://localhost:8080/",
          "height": 81
        },
        "id": "07L627pwXOGq",
        "outputId": "40dd349b-1764-4f89-c47b-13ac792f421c"
      },
      "source": [
        "df[filter3].where(df.timeDiff == '0 days 23:38:42.740000').dropna()"
      ],
      "execution_count": 117,
      "outputs": [
        {
          "output_type": "execute_result",
          "data": {
            "text/html": [
              "<div>\n",
              "<style scoped>\n",
              "    .dataframe tbody tr th:only-of-type {\n",
              "        vertical-align: middle;\n",
              "    }\n",
              "\n",
              "    .dataframe tbody tr th {\n",
              "        vertical-align: top;\n",
              "    }\n",
              "\n",
              "    .dataframe thead th {\n",
              "        text-align: right;\n",
              "    }\n",
              "</style>\n",
              "<table border=\"1\" class=\"dataframe\">\n",
              "  <thead>\n",
              "    <tr style=\"text-align: right;\">\n",
              "      <th></th>\n",
              "      <th>dataStream</th>\n",
              "      <th>rowCount</th>\n",
              "      <th>probingTimestamp</th>\n",
              "      <th>date</th>\n",
              "      <th>weekDay</th>\n",
              "      <th>timeDiff</th>\n",
              "    </tr>\n",
              "  </thead>\n",
              "  <tbody>\n",
              "    <tr>\n",
              "      <th>125071</th>\n",
              "      <td>BCL_TaskCreation</td>\n",
              "      <td>289387002.0</td>\n",
              "      <td>2020-04-07 10:29:43.680</td>\n",
              "      <td>2020-04-07</td>\n",
              "      <td>1.0</td>\n",
              "      <td>0 days 23:38:42.740000</td>\n",
              "    </tr>\n",
              "  </tbody>\n",
              "</table>\n",
              "</div>"
            ],
            "text/plain": [
              "              dataStream     rowCount  ... weekDay               timeDiff\n",
              "125071  BCL_TaskCreation  289387002.0  ...     1.0 0 days 23:38:42.740000\n",
              "\n",
              "[1 rows x 6 columns]"
            ]
          },
          "metadata": {},
          "execution_count": 117
        }
      ]
    },
    {
      "cell_type": "code",
      "metadata": {
        "colab": {
          "base_uri": "https://localhost:8080/",
          "height": 81
        },
        "id": "aY5mAVYtYLp1",
        "outputId": "600a55d5-83aa-4bbe-bf11-ed9855d0832e"
      },
      "source": [
        "df[125071:125072]"
      ],
      "execution_count": 136,
      "outputs": [
        {
          "output_type": "execute_result",
          "data": {
            "text/html": [
              "<div>\n",
              "<style scoped>\n",
              "    .dataframe tbody tr th:only-of-type {\n",
              "        vertical-align: middle;\n",
              "    }\n",
              "\n",
              "    .dataframe tbody tr th {\n",
              "        vertical-align: top;\n",
              "    }\n",
              "\n",
              "    .dataframe thead th {\n",
              "        text-align: right;\n",
              "    }\n",
              "</style>\n",
              "<table border=\"1\" class=\"dataframe\">\n",
              "  <thead>\n",
              "    <tr style=\"text-align: right;\">\n",
              "      <th></th>\n",
              "      <th>dataStream</th>\n",
              "      <th>rowCount</th>\n",
              "      <th>probingTimestamp</th>\n",
              "      <th>date</th>\n",
              "      <th>weekDay</th>\n",
              "      <th>timeDiff</th>\n",
              "    </tr>\n",
              "  </thead>\n",
              "  <tbody>\n",
              "    <tr>\n",
              "      <th>126280</th>\n",
              "      <td>BCL_TaskCreation</td>\n",
              "      <td>289392648</td>\n",
              "      <td>2020-04-07 13:41:00.957</td>\n",
              "      <td>2020-04-07</td>\n",
              "      <td>1</td>\n",
              "      <td>0 days 00:01:00.437000</td>\n",
              "    </tr>\n",
              "  </tbody>\n",
              "</table>\n",
              "</div>"
            ],
            "text/plain": [
              "              dataStream   rowCount  ... weekDay               timeDiff\n",
              "126280  BCL_TaskCreation  289392648  ...       1 0 days 00:01:00.437000\n",
              "\n",
              "[1 rows x 6 columns]"
            ]
          },
          "metadata": {},
          "execution_count": 136
        }
      ]
    },
    {
      "cell_type": "code",
      "metadata": {
        "colab": {
          "base_uri": "https://localhost:8080/",
          "height": 1000
        },
        "id": "LEHBtMwVdtcx",
        "outputId": "b7998342-18d0-4614-d50a-7bc440ac872b"
      },
      "source": [
        "df.where(df.rowCount == 289387002).dropna()"
      ],
      "execution_count": 138,
      "outputs": [
        {
          "output_type": "execute_result",
          "data": {
            "text/html": [
              "<div>\n",
              "<style scoped>\n",
              "    .dataframe tbody tr th:only-of-type {\n",
              "        vertical-align: middle;\n",
              "    }\n",
              "\n",
              "    .dataframe tbody tr th {\n",
              "        vertical-align: top;\n",
              "    }\n",
              "\n",
              "    .dataframe thead th {\n",
              "        text-align: right;\n",
              "    }\n",
              "</style>\n",
              "<table border=\"1\" class=\"dataframe\">\n",
              "  <thead>\n",
              "    <tr style=\"text-align: right;\">\n",
              "      <th></th>\n",
              "      <th>dataStream</th>\n",
              "      <th>rowCount</th>\n",
              "      <th>probingTimestamp</th>\n",
              "      <th>date</th>\n",
              "      <th>weekDay</th>\n",
              "      <th>timeDiff</th>\n",
              "    </tr>\n",
              "  </thead>\n",
              "  <tbody>\n",
              "    <tr>\n",
              "      <th>125071</th>\n",
              "      <td>BCL_TaskCreation</td>\n",
              "      <td>289387002.0</td>\n",
              "      <td>2020-04-07 10:29:43.680</td>\n",
              "      <td>2020-04-07</td>\n",
              "      <td>1.0</td>\n",
              "      <td>0 days 23:38:42.740000</td>\n",
              "    </tr>\n",
              "    <tr>\n",
              "      <th>125637</th>\n",
              "      <td>BCL_TaskCreation</td>\n",
              "      <td>289387002.0</td>\n",
              "      <td>2020-04-07 10:30:01.030</td>\n",
              "      <td>2020-04-07</td>\n",
              "      <td>1.0</td>\n",
              "      <td>0 days 00:00:17.350000</td>\n",
              "    </tr>\n",
              "    <tr>\n",
              "      <th>126252</th>\n",
              "      <td>BCL_TaskCreation</td>\n",
              "      <td>289387002.0</td>\n",
              "      <td>2020-04-07 10:31:00.523</td>\n",
              "      <td>2020-04-07</td>\n",
              "      <td>1.0</td>\n",
              "      <td>0 days 00:00:59.493000</td>\n",
              "    </tr>\n",
              "    <tr>\n",
              "      <th>126253</th>\n",
              "      <td>BCL_TaskCreation</td>\n",
              "      <td>289387002.0</td>\n",
              "      <td>2020-04-07 10:32:00.030</td>\n",
              "      <td>2020-04-07</td>\n",
              "      <td>1.0</td>\n",
              "      <td>0 days 00:00:59.507000</td>\n",
              "    </tr>\n",
              "    <tr>\n",
              "      <th>126254</th>\n",
              "      <td>BCL_TaskCreation</td>\n",
              "      <td>289387002.0</td>\n",
              "      <td>2020-04-07 10:33:00.540</td>\n",
              "      <td>2020-04-07</td>\n",
              "      <td>1.0</td>\n",
              "      <td>0 days 00:01:00.510000</td>\n",
              "    </tr>\n",
              "    <tr>\n",
              "      <th>126255</th>\n",
              "      <td>BCL_TaskCreation</td>\n",
              "      <td>289387002.0</td>\n",
              "      <td>2020-04-07 10:34:01.023</td>\n",
              "      <td>2020-04-07</td>\n",
              "      <td>1.0</td>\n",
              "      <td>0 days 00:01:00.483000</td>\n",
              "    </tr>\n",
              "    <tr>\n",
              "      <th>126256</th>\n",
              "      <td>BCL_TaskCreation</td>\n",
              "      <td>289387002.0</td>\n",
              "      <td>2020-04-07 10:35:00.567</td>\n",
              "      <td>2020-04-07</td>\n",
              "      <td>1.0</td>\n",
              "      <td>0 days 00:00:59.544000</td>\n",
              "    </tr>\n",
              "    <tr>\n",
              "      <th>126257</th>\n",
              "      <td>BCL_TaskCreation</td>\n",
              "      <td>289387002.0</td>\n",
              "      <td>2020-04-07 10:36:01.043</td>\n",
              "      <td>2020-04-07</td>\n",
              "      <td>1.0</td>\n",
              "      <td>0 days 00:01:00.476000</td>\n",
              "    </tr>\n",
              "    <tr>\n",
              "      <th>126258</th>\n",
              "      <td>BCL_TaskCreation</td>\n",
              "      <td>289387002.0</td>\n",
              "      <td>2020-04-07 10:37:00.567</td>\n",
              "      <td>2020-04-07</td>\n",
              "      <td>1.0</td>\n",
              "      <td>0 days 00:00:59.524000</td>\n",
              "    </tr>\n",
              "    <tr>\n",
              "      <th>126276</th>\n",
              "      <td>BCL_TaskCreation</td>\n",
              "      <td>289387002.0</td>\n",
              "      <td>2020-04-07 10:38:00.090</td>\n",
              "      <td>2020-04-07</td>\n",
              "      <td>1.0</td>\n",
              "      <td>0 days 00:00:59.523000</td>\n",
              "    </tr>\n",
              "    <tr>\n",
              "      <th>125626</th>\n",
              "      <td>BCL_TaskCreation</td>\n",
              "      <td>289387002.0</td>\n",
              "      <td>2020-04-07 10:39:00.623</td>\n",
              "      <td>2020-04-07</td>\n",
              "      <td>1.0</td>\n",
              "      <td>0 days 00:01:00.533000</td>\n",
              "    </tr>\n",
              "    <tr>\n",
              "      <th>124151</th>\n",
              "      <td>BCL_TaskCreation</td>\n",
              "      <td>289387002.0</td>\n",
              "      <td>2020-04-07 10:40:00.177</td>\n",
              "      <td>2020-04-07</td>\n",
              "      <td>1.0</td>\n",
              "      <td>0 days 00:00:59.554000</td>\n",
              "    </tr>\n",
              "    <tr>\n",
              "      <th>124167</th>\n",
              "      <td>BCL_TaskCreation</td>\n",
              "      <td>289387002.0</td>\n",
              "      <td>2020-04-07 10:41:00.737</td>\n",
              "      <td>2020-04-07</td>\n",
              "      <td>1.0</td>\n",
              "      <td>0 days 00:01:00.560000</td>\n",
              "    </tr>\n",
              "    <tr>\n",
              "      <th>125113</th>\n",
              "      <td>BCL_TaskCreation</td>\n",
              "      <td>289387002.0</td>\n",
              "      <td>2020-04-07 10:42:00.180</td>\n",
              "      <td>2020-04-07</td>\n",
              "      <td>1.0</td>\n",
              "      <td>0 days 00:00:59.443000</td>\n",
              "    </tr>\n",
              "    <tr>\n",
              "      <th>125673</th>\n",
              "      <td>BCL_TaskCreation</td>\n",
              "      <td>289387002.0</td>\n",
              "      <td>2020-04-07 10:43:00.733</td>\n",
              "      <td>2020-04-07</td>\n",
              "      <td>1.0</td>\n",
              "      <td>0 days 00:01:00.553000</td>\n",
              "    </tr>\n",
              "    <tr>\n",
              "      <th>125210</th>\n",
              "      <td>BCL_TaskCreation</td>\n",
              "      <td>289387002.0</td>\n",
              "      <td>2020-04-07 10:44:00.323</td>\n",
              "      <td>2020-04-07</td>\n",
              "      <td>1.0</td>\n",
              "      <td>0 days 00:00:59.590000</td>\n",
              "    </tr>\n",
              "    <tr>\n",
              "      <th>125742</th>\n",
              "      <td>BCL_TaskCreation</td>\n",
              "      <td>289387002.0</td>\n",
              "      <td>2020-04-07 10:45:00.780</td>\n",
              "      <td>2020-04-07</td>\n",
              "      <td>1.0</td>\n",
              "      <td>0 days 00:01:00.457000</td>\n",
              "    </tr>\n",
              "    <tr>\n",
              "      <th>124958</th>\n",
              "      <td>BCL_TaskCreation</td>\n",
              "      <td>289387002.0</td>\n",
              "      <td>2020-04-07 10:46:00.290</td>\n",
              "      <td>2020-04-07</td>\n",
              "      <td>1.0</td>\n",
              "      <td>0 days 00:00:59.510000</td>\n",
              "    </tr>\n",
              "    <tr>\n",
              "      <th>124882</th>\n",
              "      <td>BCL_TaskCreation</td>\n",
              "      <td>289387002.0</td>\n",
              "      <td>2020-04-07 10:47:00.750</td>\n",
              "      <td>2020-04-07</td>\n",
              "      <td>1.0</td>\n",
              "      <td>0 days 00:01:00.460000</td>\n",
              "    </tr>\n",
              "    <tr>\n",
              "      <th>125061</th>\n",
              "      <td>BCL_TaskCreation</td>\n",
              "      <td>289387002.0</td>\n",
              "      <td>2020-04-07 10:48:00.257</td>\n",
              "      <td>2020-04-07</td>\n",
              "      <td>1.0</td>\n",
              "      <td>0 days 00:00:59.507000</td>\n",
              "    </tr>\n",
              "    <tr>\n",
              "      <th>125074</th>\n",
              "      <td>BCL_TaskCreation</td>\n",
              "      <td>289387002.0</td>\n",
              "      <td>2020-04-07 10:49:00.870</td>\n",
              "      <td>2020-04-07</td>\n",
              "      <td>1.0</td>\n",
              "      <td>0 days 00:01:00.613000</td>\n",
              "    </tr>\n",
              "    <tr>\n",
              "      <th>125641</th>\n",
              "      <td>BCL_TaskCreation</td>\n",
              "      <td>289387002.0</td>\n",
              "      <td>2020-04-07 10:50:00.343</td>\n",
              "      <td>2020-04-07</td>\n",
              "      <td>1.0</td>\n",
              "      <td>0 days 00:00:59.473000</td>\n",
              "    </tr>\n",
              "    <tr>\n",
              "      <th>125655</th>\n",
              "      <td>BCL_TaskCreation</td>\n",
              "      <td>289387002.0</td>\n",
              "      <td>2020-04-07 10:51:00.833</td>\n",
              "      <td>2020-04-07</td>\n",
              "      <td>1.0</td>\n",
              "      <td>0 days 00:01:00.490000</td>\n",
              "    </tr>\n",
              "    <tr>\n",
              "      <th>125147</th>\n",
              "      <td>BCL_TaskCreation</td>\n",
              "      <td>289387002.0</td>\n",
              "      <td>2020-04-07 10:52:00.297</td>\n",
              "      <td>2020-04-07</td>\n",
              "      <td>1.0</td>\n",
              "      <td>0 days 00:00:59.464000</td>\n",
              "    </tr>\n",
              "    <tr>\n",
              "      <th>125560</th>\n",
              "      <td>BCL_TaskCreation</td>\n",
              "      <td>289387002.0</td>\n",
              "      <td>2020-04-07 10:53:00.817</td>\n",
              "      <td>2020-04-07</td>\n",
              "      <td>1.0</td>\n",
              "      <td>0 days 00:01:00.520000</td>\n",
              "    </tr>\n",
              "    <tr>\n",
              "      <th>124851</th>\n",
              "      <td>BCL_TaskCreation</td>\n",
              "      <td>289387002.0</td>\n",
              "      <td>2020-04-07 10:54:00.253</td>\n",
              "      <td>2020-04-07</td>\n",
              "      <td>1.0</td>\n",
              "      <td>0 days 00:00:59.436000</td>\n",
              "    </tr>\n",
              "    <tr>\n",
              "      <th>125613</th>\n",
              "      <td>BCL_TaskCreation</td>\n",
              "      <td>289387002.0</td>\n",
              "      <td>2020-04-07 10:55:00.777</td>\n",
              "      <td>2020-04-07</td>\n",
              "      <td>1.0</td>\n",
              "      <td>0 days 00:01:00.524000</td>\n",
              "    </tr>\n",
              "    <tr>\n",
              "      <th>124809</th>\n",
              "      <td>BCL_TaskCreation</td>\n",
              "      <td>289387002.0</td>\n",
              "      <td>2020-04-07 10:56:00.273</td>\n",
              "      <td>2020-04-07</td>\n",
              "      <td>1.0</td>\n",
              "      <td>0 days 00:00:59.496000</td>\n",
              "    </tr>\n",
              "    <tr>\n",
              "      <th>125060</th>\n",
              "      <td>BCL_TaskCreation</td>\n",
              "      <td>289387002.0</td>\n",
              "      <td>2020-04-07 10:57:00.813</td>\n",
              "      <td>2020-04-07</td>\n",
              "      <td>1.0</td>\n",
              "      <td>0 days 00:01:00.540000</td>\n",
              "    </tr>\n",
              "    <tr>\n",
              "      <th>125609</th>\n",
              "      <td>BCL_TaskCreation</td>\n",
              "      <td>289387002.0</td>\n",
              "      <td>2020-04-07 10:58:00.333</td>\n",
              "      <td>2020-04-07</td>\n",
              "      <td>1.0</td>\n",
              "      <td>0 days 00:00:59.520000</td>\n",
              "    </tr>\n",
              "    <tr>\n",
              "      <th>125958</th>\n",
              "      <td>BCL_TaskCreation</td>\n",
              "      <td>289387002.0</td>\n",
              "      <td>2020-04-07 10:59:00.803</td>\n",
              "      <td>2020-04-07</td>\n",
              "      <td>1.0</td>\n",
              "      <td>0 days 00:01:00.470000</td>\n",
              "    </tr>\n",
              "    <tr>\n",
              "      <th>125965</th>\n",
              "      <td>BCL_TaskCreation</td>\n",
              "      <td>289387002.0</td>\n",
              "      <td>2020-04-07 11:00:00.383</td>\n",
              "      <td>2020-04-07</td>\n",
              "      <td>1.0</td>\n",
              "      <td>0 days 00:00:59.580000</td>\n",
              "    </tr>\n",
              "  </tbody>\n",
              "</table>\n",
              "</div>"
            ],
            "text/plain": [
              "              dataStream     rowCount  ... weekDay               timeDiff\n",
              "125071  BCL_TaskCreation  289387002.0  ...     1.0 0 days 23:38:42.740000\n",
              "125637  BCL_TaskCreation  289387002.0  ...     1.0 0 days 00:00:17.350000\n",
              "126252  BCL_TaskCreation  289387002.0  ...     1.0 0 days 00:00:59.493000\n",
              "126253  BCL_TaskCreation  289387002.0  ...     1.0 0 days 00:00:59.507000\n",
              "126254  BCL_TaskCreation  289387002.0  ...     1.0 0 days 00:01:00.510000\n",
              "126255  BCL_TaskCreation  289387002.0  ...     1.0 0 days 00:01:00.483000\n",
              "126256  BCL_TaskCreation  289387002.0  ...     1.0 0 days 00:00:59.544000\n",
              "126257  BCL_TaskCreation  289387002.0  ...     1.0 0 days 00:01:00.476000\n",
              "126258  BCL_TaskCreation  289387002.0  ...     1.0 0 days 00:00:59.524000\n",
              "126276  BCL_TaskCreation  289387002.0  ...     1.0 0 days 00:00:59.523000\n",
              "125626  BCL_TaskCreation  289387002.0  ...     1.0 0 days 00:01:00.533000\n",
              "124151  BCL_TaskCreation  289387002.0  ...     1.0 0 days 00:00:59.554000\n",
              "124167  BCL_TaskCreation  289387002.0  ...     1.0 0 days 00:01:00.560000\n",
              "125113  BCL_TaskCreation  289387002.0  ...     1.0 0 days 00:00:59.443000\n",
              "125673  BCL_TaskCreation  289387002.0  ...     1.0 0 days 00:01:00.553000\n",
              "125210  BCL_TaskCreation  289387002.0  ...     1.0 0 days 00:00:59.590000\n",
              "125742  BCL_TaskCreation  289387002.0  ...     1.0 0 days 00:01:00.457000\n",
              "124958  BCL_TaskCreation  289387002.0  ...     1.0 0 days 00:00:59.510000\n",
              "124882  BCL_TaskCreation  289387002.0  ...     1.0 0 days 00:01:00.460000\n",
              "125061  BCL_TaskCreation  289387002.0  ...     1.0 0 days 00:00:59.507000\n",
              "125074  BCL_TaskCreation  289387002.0  ...     1.0 0 days 00:01:00.613000\n",
              "125641  BCL_TaskCreation  289387002.0  ...     1.0 0 days 00:00:59.473000\n",
              "125655  BCL_TaskCreation  289387002.0  ...     1.0 0 days 00:01:00.490000\n",
              "125147  BCL_TaskCreation  289387002.0  ...     1.0 0 days 00:00:59.464000\n",
              "125560  BCL_TaskCreation  289387002.0  ...     1.0 0 days 00:01:00.520000\n",
              "124851  BCL_TaskCreation  289387002.0  ...     1.0 0 days 00:00:59.436000\n",
              "125613  BCL_TaskCreation  289387002.0  ...     1.0 0 days 00:01:00.524000\n",
              "124809  BCL_TaskCreation  289387002.0  ...     1.0 0 days 00:00:59.496000\n",
              "125060  BCL_TaskCreation  289387002.0  ...     1.0 0 days 00:01:00.540000\n",
              "125609  BCL_TaskCreation  289387002.0  ...     1.0 0 days 00:00:59.520000\n",
              "125958  BCL_TaskCreation  289387002.0  ...     1.0 0 days 00:01:00.470000\n",
              "125965  BCL_TaskCreation  289387002.0  ...     1.0 0 days 00:00:59.580000\n",
              "\n",
              "[32 rows x 6 columns]"
            ]
          },
          "metadata": {},
          "execution_count": 138
        }
      ]
    },
    {
      "cell_type": "code",
      "metadata": {
        "id": "c4AsLX1PfVL6"
      },
      "source": [
        ""
      ],
      "execution_count": null,
      "outputs": []
    }
  ]
}